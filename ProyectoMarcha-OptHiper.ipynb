{
 "cells": [
  {
   "cell_type": "markdown",
   "source": "# Pruebas Proyecto Marcha - Optimización Hiperparametros",
   "metadata": {
    "tags": [],
    "is_collapsed": false,
    "deepnote_app_coordinates": {
     "x": 0,
     "y": null,
     "w": 12,
     "h": 5
    },
    "cell_id": "4826b0f0-2906-4492-a6c6-3066c522763b",
    "deepnote_cell_type": "text-cell-h1",
    "deepnote_cell_height": 134.453125
   }
  },
  {
   "cell_type": "markdown",
   "source": "Realizado por: Mario E. Otero A.                                          ",
   "metadata": {
    "tags": [],
    "is_collapsed": false,
    "deepnote_app_coordinates": {
     "x": 0,
     "y": 534,
     "w": 8,
     "h": 2
    },
    "cell_id": "00001-06165902-94cc-48f9-b042-49b657ce7904",
    "deepnote_cell_type": "text-cell-p",
    "deepnote_cell_height": 52.859375
   }
  },
  {
   "cell_type": "markdown",
   "source": "LinkedIn: https://www.linkedin.com/in/marioeoteroa/         ",
   "metadata": {
    "tags": [],
    "is_collapsed": false,
    "deepnote_app_coordinates": {
     "x": 0,
     "y": 537,
     "w": 8,
     "h": 2
    },
    "cell_id": "00002-85a80a9d-8a83-4781-b87e-79008b782325",
    "deepnote_cell_type": "text-cell-p",
    "deepnote_cell_height": 52.859375
   }
  },
  {
   "cell_type": "markdown",
   "source": "Github: https://github.com/marioeoteroa/ProyectoMarcha",
   "metadata": {
    "tags": [],
    "is_collapsed": false,
    "deepnote_app_coordinates": {
     "x": 0,
     "y": 543,
     "w": 8,
     "h": 2
    },
    "cell_id": "00003-5344e035-e5bb-4d77-86a2-8f5c05d9297e",
    "deepnote_cell_type": "text-cell-p",
    "deepnote_cell_height": 52.859375
   }
  },
  {
   "cell_type": "markdown",
   "source": "## Optimización de Hiperparametros",
   "metadata": {
    "tags": [],
    "is_collapsed": false,
    "deepnote_app_coordinates": {
     "x": 0,
     "y": 24,
     "w": 12,
     "h": 5
    },
    "cell_id": "00009-065b28ac-f501-4831-906f-902389454f42",
    "deepnote_cell_type": "text-cell-h2",
    "deepnote_cell_height": 70.46875
   }
  },
  {
   "cell_type": "code",
   "metadata": {
    "tags": [],
    "deepnote_to_be_reexecuted": false,
    "source_hash": "3598bba5",
    "execution_start": 1647014013790,
    "execution_millis": 3354,
    "deepnote_app_coordinates": {
     "x": 0,
     "y": 30,
     "w": 12,
     "h": 5
    },
    "is_code_hidden": false,
    "cell_id": "00010-67feae78-8731-4667-b99f-cbd442db00e9",
    "deepnote_cell_type": "code",
    "deepnote_cell_height": 1197.453125
   },
   "source": "# Importar librerías aquí\n\nimport glob\nimport os\nimport numpy as np \nimport pandas as pd \nimport geopandas as gpd\nimport seaborn as sns\nimport matplotlib.pyplot as plt\nfrom plotly.subplots import make_subplots\nimport plotly.graph_objects as go\nimport folium\nfrom folium import Choropleth, Circle, Marker\nfrom folium.plugins import HeatMap, MarkerCluster\n\nfrom sklearn.model_selection import train_test_split, GridSearchCV\nfrom sklearn.tree import DecisionTreeRegressor \nfrom sklearn.pipeline import Pipeline\nfrom sklearn.preprocessing import MinMaxScaler\nfrom sklearn.metrics import mean_squared_error\nfrom sklearn.metrics import r2_score\nfrom sklearn.ensemble import RandomForestRegressor\n\nfrom pylab import *\nimport numpy as np\nimport matplotlib.pyplot as plt\nfrom pandas import DataFrame\nfrom sklearn.model_selection import cross_val_score\nfrom sklearn.model_selection import train_test_split\nfrom sklearn.preprocessing import MinMaxScaler\nfrom sklearn import linear_model\nfrom sklearn.metrics import r2_score\nfrom sklearn.metrics import mean_squared_error\nfrom sklearn.metrics import mean_absolute_error\nfrom sklearn.model_selection import cross_validate\nfrom statistics import mean\nfrom sklearn.ensemble import RandomForestRegressor\nfrom sklearn.pipeline import Pipeline\n\nfrom sklearn.model_selection import train_test_split, GridSearchCV\nfrom sklearn.pipeline import Pipeline\nfrom sklearn.preprocessing import MinMaxScaler\nfrom sklearn.metrics import mean_squared_error\nfrom sklearn.metrics import r2_score\nfrom sklearn.svm import SVR\n\nfrom sklearn.model_selection import cross_val_score\nfrom sklearn.model_selection import train_test_split\nfrom sklearn.preprocessing import MinMaxScaler\nfrom sklearn import linear_model\n\nfrom sklearn.model_selection import cross_validate\nfrom statistics import mean\nfrom sklearn.ensemble import RandomForestRegressor\nfrom sklearn.pipeline import Pipeline\nfrom sklearn.tree import DecisionTreeRegressor\n\n\nfrom sklearn.preprocessing import MinMaxScaler\nfrom sklearn import linear_model\nfrom sklearn.metrics import mean_squared_error\nfrom sklearn.metrics import r2_score\nfrom sklearn.metrics import mean_absolute_error",
   "execution_count": 1,
   "outputs": []
  },
  {
   "cell_type": "code",
   "metadata": {
    "cell_id": "d117a4fd-8981-4a97-adcd-4d441166824f",
    "tags": [],
    "deepnote_to_be_reexecuted": false,
    "source_hash": "39dc2306",
    "execution_start": 1647014017145,
    "execution_millis": 4074,
    "is_output_hidden": false,
    "deepnote_cell_type": "code",
    "deepnote_cell_height": 234.0625
   },
   "source": "pip install openpyxl",
   "execution_count": 2,
   "outputs": [
    {
     "name": "stdout",
     "text": "Requirement already satisfied: openpyxl in /usr/local/lib/python3.7/site-packages (3.0.9)\nRequirement already satisfied: et-xmlfile in /usr/local/lib/python3.7/site-packages (from openpyxl) (1.1.0)\n\u001b[33mWARNING: You are using pip version 20.1.1; however, version 22.0.4 is available.\nYou should consider upgrading via the '/usr/local/bin/python -m pip install --upgrade pip' command.\u001b[0m\nNote: you may need to restart the kernel to use updated packages.\n",
     "output_type": "stream"
    }
   ]
  },
  {
   "cell_type": "code",
   "metadata": {
    "cell_id": "e9b1799a-2090-43e2-8f73-417d770ca691",
    "tags": [],
    "deepnote_to_be_reexecuted": false,
    "source_hash": "f5519f52",
    "execution_start": 1647014021230,
    "execution_millis": 7,
    "deepnote_cell_type": "code",
    "deepnote_cell_height": 190.890625,
    "deepnote_output_heights": [
     21.171875
    ]
   },
   "source": "#all_files = glob.glob('/work/GWALK/*.xlsx')\n#all_files = glob.glob('/work/AW/*.xlsx')\n#all_files = glob.glob('/work/IMU/*.xlsx')\nall_files = glob.glob('/work/*.xlsx')\nlen(all_files)",
   "execution_count": 3,
   "outputs": [
    {
     "output_type": "execute_result",
     "execution_count": 3,
     "data": {
      "text/plain": "37"
     },
     "metadata": {}
    }
   ]
  },
  {
   "cell_type": "code",
   "metadata": {
    "cell_id": "40720add-d9db-4b73-aa8c-768811ebb874",
    "tags": [],
    "deepnote_to_be_reexecuted": false,
    "source_hash": "57729769",
    "execution_start": 1647014021240,
    "execution_millis": 9,
    "deepnote_cell_type": "code",
    "deepnote_cell_height": 115.625
   },
   "source": "print(all_files)",
   "execution_count": 4,
   "outputs": [
    {
     "name": "stdout",
     "text": "['/work/GWALKVelAngularNoLineal.xlsx', '/work/GWALKEspacial.xlsx', '/work/AWR.xlsx', '/work/IMUR.xlsx', '/work/AWAccLinealEspacial.xlsx', '/work/AWREspacial.xlsx', '/work/GWALKVelAngularEspacial.xlsx', '/work/GWALKNoLineal.xlsx', '/work/IMU.xlsx', '/work/AW.xlsx', '/work/AWRNoLineal.xlsx', '/work/AWAccLinealNoLineal.xlsx', '/work/AWLVelAngularNoLineal.xlsx', '/work/IMUL.xlsx', '/work/AWRAccLinealEspacial.xlsx', '/work/IMURVelAngularEspacial.xlsx', '/work/AWL.xlsx', '/work/IMUVelAngularNoLineal.xlsx', '/work/AWVelAngularEspacial.xlsx', '/work/AWEspacial.xlsx', '/work/IMULVelAngularNoLineal.xlsx', '/work/AWRVelAngularEspacial.xlsx', '/work/AWLEspacial.xlsx', '/work/GWALKAccLinealEspacial.xlsx', '/work/AWLAccLinealEspacial.xlsx', '/work/AWVelAngularNoLineal.xlsx', '/work/IMULVelAngularEspacial.xlsx', '/work/AWNoLineal.xlsx', '/work/AWRVelAngularNoLineal.xlsx', '/work/AWRAccLinealNoLineal.xlsx', '/work/AWLVelAngularEspacial.xlsx', '/work/IMURVelAngularNoLineal.xlsx', '/work/IMUVelAngularEspacial.xlsx', '/work/AWLAccLinealNoLineal.xlsx', '/work/GWALK.xlsx', '/work/GWALKAccLinealNoLineal.xlsx', '/work/AWLNoLineal.xlsx']\n",
     "output_type": "stream"
    }
   ]
  },
  {
   "cell_type": "code",
   "metadata": {
    "cell_id": "b29a26fc-33a2-4c43-9e54-a5cda62b0f7a",
    "tags": [],
    "deepnote_to_be_reexecuted": false,
    "source_hash": "2ede4dc8",
    "execution_start": 1647014021249,
    "execution_millis": 289,
    "deepnote_cell_type": "code",
    "deepnote_cell_height": 99.46875
   },
   "source": "targets = pd.read_excel('/work/Target/ParametrosMarchaNUEVO.xlsx')\n#targets.head()",
   "execution_count": 5,
   "outputs": []
  },
  {
   "cell_type": "code",
   "metadata": {
    "cell_id": "112756f2-12ca-4aea-9e50-0e60b602cd37",
    "tags": [],
    "deepnote_to_be_reexecuted": false,
    "source_hash": "f4d946da",
    "execution_start": 1647014021545,
    "execution_millis": 2,
    "deepnote_cell_type": "code",
    "deepnote_cell_height": 154.875,
    "deepnote_output_heights": [
     21.171875
    ]
   },
   "source": "#Observar el tamaño del dataset\n\ntargets.shape",
   "execution_count": 6,
   "outputs": [
    {
     "output_type": "execute_result",
     "execution_count": 6,
     "data": {
      "text/plain": "(591, 3)"
     },
     "metadata": {}
    }
   ]
  },
  {
   "cell_type": "markdown",
   "source": "### Decision Tree",
   "metadata": {
    "tags": [],
    "is_collapsed": false,
    "deepnote_app_coordinates": {
     "x": 0,
     "y": 399,
     "w": 12,
     "h": 5
    },
    "cell_id": "00024-b2dffc63-2bf0-42eb-9e70-1d1f4c0e7b39",
    "deepnote_cell_type": "text-cell-h3",
    "deepnote_cell_height": 62.453125
   }
  },
  {
   "cell_type": "code",
   "metadata": {
    "tags": [],
    "deepnote_to_be_reexecuted": false,
    "source_hash": "98f9b4af",
    "execution_start": 1647014021555,
    "execution_millis": 2,
    "deepnote_app_coordinates": {
     "x": 0,
     "y": 405,
     "w": 12,
     "h": 5
    },
    "cell_id": "00025-ac8a44fa-ba5e-4a98-b616-a5551eee6a65",
    "deepnote_cell_type": "code",
    "deepnote_cell_height": 226.453125
   },
   "source": "#Se definen los hiperparametros a optimizar\nmax_depth = 3\nminsamplesplit = 3\nminsampleleaf = 3\n\nparam_grid = {\"model__max_depth\": list(range(1, max_depth + 1)),\n              \"model__min_samples_split\": list(range(1, minsamplesplit + 1)),\n              \"model__min_samples_leaf\": list(range(1, minsampleleaf + 1))\n                                        }",
   "execution_count": 7,
   "outputs": []
  },
  {
   "cell_type": "code",
   "metadata": {
    "tags": [],
    "cell_id": "00026-860d3ffa-08bd-487c-a49f-d2a1d097a46f",
    "deepnote_to_be_reexecuted": false,
    "source_hash": "d162f692",
    "execution_start": 1647014021564,
    "execution_millis": 192780,
    "is_output_hidden": false,
    "output_cleared": false,
    "deepnote_cell_type": "code",
    "deepnote_cell_height": 1593.15625,
    "deepnote_output_heights": [
     null,
     596.6875
    ]
   },
   "source": "import time\nstart_time = time.time()\n\nprint('-------------------INICIO PROCESAMIENTO-----------------')\n\nDataDecisionTree = []\n\nfor f in all_files:\n    train_features = pd.read_excel(f)\n    # Train, test split.\n    data_split = train_test_split(train_features, targets, test_size=0.3, random_state=4444)\n    X_train, X_test, targets_train, targets_test = data_split\n\n    # Find the best model per target.\n    for target in range(targets.shape[1]):\n        # Getting the target.\n        y_train = targets_train.iloc[:, target]\n        y_test = targets_test.iloc[:, target]\n\n    # Model definition.\n        pipe = Pipeline([(\"minmax\", MinMaxScaler((-1, 1))),\n                          (\"model\", DecisionTreeRegressor(random_state=4444))])\n    # By default GridSearchCV uses a 5-kfold validation strategy.\n        search = GridSearchCV(pipe, param_grid, cv=10, n_jobs=-1)  \n        search.fit(X_train.values, y_train.values)\n\n    # Getting the test score.\n        y_hat_test = search.predict(X_test.values)\n        test_score = r2_score(y_test.values, y_hat_test)\n\n    # Printing stats.\n        print(f\"Columna: {targets.columns[target]}\")\n        print(f\"Best CV score: {search.best_score_:0.3f}\")\n        print(f\"Test score: {test_score:0.3f}\")\n        print(f\"Best Parameters:\\n {search.best_params_}\")\n        print(\"\")\n\n    #Save stats\n        DataDecisionTree.append([f,targets.columns[target],search.best_score_,test_score,search.best_params_])\n\n\nprint('--------------------------------------------------------------')\nprint('PROCESAMIENTO FINALIZADO EXITOSAMENTE!!!')\nprint('--------------------------------------------------------------')\n\nTIEMPO = (time.time() - start_time)/60\n\nprint(\"--- %s Minutos ---\" % (TIEMPO))",
   "execution_count": 8,
   "outputs": [
    {
     "name": "stdout",
     "text": "Best Parameters:\n {'model__max_depth': 3, 'model__min_samples_leaf': 1, 'model__min_samples_split': 2}\n\n/shared-libs/python3.7/py/lib/python3.7/site-packages/sklearn/model_selection/_validation.py:372: FitFailedWarning: \n90 fits failed out of a total of 270.\nThe score on these train-test partitions for these parameters will be set to nan.\nIf these failures are not expected, you can try to debug them by setting error_score='raise'.\n\nBelow are more details about the failures:\n--------------------------------------------------------------------------------\n90 fits failed with the following error:\nTraceback (most recent call last):\n  File \"/shared-libs/python3.7/py/lib/python3.7/site-packages/sklearn/model_selection/_validation.py\", line 680, in _fit_and_score\n    estimator.fit(X_train, y_train, **fit_params)\n  File \"/shared-libs/python3.7/py/lib/python3.7/site-packages/sklearn/pipeline.py\", line 394, in fit\n    self._final_estimator.fit(Xt, y, **fit_params_last_step)\n  File \"/shared-libs/python3.7/py/lib/python3.7/site-packages/sklearn/tree/_classes.py\", line 1320, in fit\n    X_idx_sorted=X_idx_sorted,\n  File \"/shared-libs/python3.7/py/lib/python3.7/site-packages/sklearn/tree/_classes.py\", line 254, in fit\n    % self.min_samples_split\nValueError: min_samples_split must be an integer greater than 1 or a float in (0.0, 1.0]; got the integer 1\n\n  warnings.warn(some_fits_failed_message, FitFailedWarning)\n/shared-libs/python3.7/py/lib/python3.7/site-packages/sklearn/model_selection/_search.py:972: UserWarning: One or more of the test scores are non-finite: [       nan 0.261652   0.261652          nan 0.261652   0.261652\n        nan 0.261652   0.261652          nan 0.40691586 0.40691586\n        nan 0.40691586 0.40691586        nan 0.41690917 0.41690917\n        nan 0.48619108 0.48619108        nan 0.48400964 0.48400964\n        nan 0.49499908 0.49499908]\n  category=UserWarning,\nColumna: LongitudZancada\nBest CV score: 0.495\nTest score: 0.594\nBest Parameters:\n {'model__max_depth': 3, 'model__min_samples_leaf': 3, 'model__min_samples_split': 2}\n\n/shared-libs/python3.7/py/lib/python3.7/site-packages/sklearn/model_selection/_validation.py:372: FitFailedWarning: \n90 fits failed out of a total of 270.\nThe score on these train-test partitions for these parameters will be set to nan.\nIf these failures are not expected, you can try to debug them by setting error_score='raise'.\n\nBelow are more details about the failures:\n--------------------------------------------------------------------------------\n90 fits failed with the following error:\nTraceback (most recent call last):\n  File \"/shared-libs/python3.7/py/lib/python3.7/site-packages/sklearn/model_selection/_validation.py\", line 680, in _fit_and_score\n    estimator.fit(X_train, y_train, **fit_params)\n  File \"/shared-libs/python3.7/py/lib/python3.7/site-packages/sklearn/pipeline.py\", line 394, in fit\n    self._final_estimator.fit(Xt, y, **fit_params_last_step)\n  File \"/shared-libs/python3.7/py/lib/python3.7/site-packages/sklearn/tree/_classes.py\", line 1320, in fit\n    X_idx_sorted=X_idx_sorted,\n  File \"/shared-libs/python3.7/py/lib/python3.7/site-packages/sklearn/tree/_classes.py\", line 254, in fit\n    % self.min_samples_split\nValueError: min_samples_split must be an integer greater than 1 or a float in (0.0, 1.0]; got the integer 1\n\n  warnings.warn(some_fits_failed_message, FitFailedWarning)\n/shared-libs/python3.7/py/lib/python3.7/site-packages/sklearn/model_selection/_search.py:972: UserWarning: One or more of the test scores are non-finite: [       nan 0.20310189 0.20310189        nan 0.20310189 0.20310189\n        nan 0.20310189 0.20310189        nan 0.32208019 0.32208019\n        nan 0.32208019 0.32208019        nan 0.32208019 0.32208019\n        nan 0.36737284 0.36737284        nan 0.36077731 0.36077731\n        nan 0.35762372 0.35762372]\n  category=UserWarning,\nColumna: Cadencia\nBest CV score: 0.367\nTest score: 0.432\nBest Parameters:\n {'model__max_depth': 3, 'model__min_samples_leaf': 1, 'model__min_samples_split': 2}\n\n/shared-libs/python3.7/py/lib/python3.7/site-packages/sklearn/model_selection/_validation.py:372: FitFailedWarning: \n90 fits failed out of a total of 270.\nThe score on these train-test partitions for these parameters will be set to nan.\nIf these failures are not expected, you can try to debug them by setting error_score='raise'.\n\nBelow are more details about the failures:\n--------------------------------------------------------------------------------\n90 fits failed with the following error:\nTraceback (most recent call last):\n  File \"/shared-libs/python3.7/py/lib/python3.7/site-packages/sklearn/model_selection/_validation.py\", line 680, in _fit_and_score\n    estimator.fit(X_train, y_train, **fit_params)\n  File \"/shared-libs/python3.7/py/lib/python3.7/site-packages/sklearn/pipeline.py\", line 394, in fit\n    self._final_estimator.fit(Xt, y, **fit_params_last_step)\n  File \"/shared-libs/python3.7/py/lib/python3.7/site-packages/sklearn/tree/_classes.py\", line 1320, in fit\n    X_idx_sorted=X_idx_sorted,\n  File \"/shared-libs/python3.7/py/lib/python3.7/site-packages/sklearn/tree/_classes.py\", line 254, in fit\n    % self.min_samples_split\nValueError: min_samples_split must be an integer greater than 1 or a float in (0.0, 1.0]; got the integer 1\n\n  warnings.warn(some_fits_failed_message, FitFailedWarning)\n/shared-libs/python3.7/py/lib/python3.7/site-packages/sklearn/model_selection/_search.py:972: UserWarning: One or more of the test scores are non-finite: [       nan 0.23262664 0.23262664        nan 0.23262664 0.23262664\n        nan 0.23262664 0.23262664        nan 0.41654755 0.41654755\n        nan 0.41654755 0.41654755        nan 0.41654755 0.41654755\n        nan 0.41137584 0.41137584        nan 0.41137584 0.41137584\n        nan 0.41601922 0.41601922]\n  category=UserWarning,\nColumna: Velocidad\nBest CV score: 0.417\nTest score: 0.434\nBest Parameters:\n {'model__max_depth': 2, 'model__min_samples_leaf': 1, 'model__min_samples_split': 2}\n\n/shared-libs/python3.7/py/lib/python3.7/site-packages/sklearn/model_selection/_validation.py:372: FitFailedWarning: \n90 fits failed out of a total of 270.\nThe score on these train-test partitions for these parameters will be set to nan.\nIf these failures are not expected, you can try to debug them by setting error_score='raise'.\n\nBelow are more details about the failures:\n--------------------------------------------------------------------------------\n90 fits failed with the following error:\nTraceback (most recent call last):\n  File \"/shared-libs/python3.7/py/lib/python3.7/site-packages/sklearn/model_selection/_validation.py\", line 680, in _fit_and_score\n    estimator.fit(X_train, y_train, **fit_params)\n  File \"/shared-libs/python3.7/py/lib/python3.7/site-packages/sklearn/pipeline.py\", line 394, in fit\n    self._final_estimator.fit(Xt, y, **fit_params_last_step)\n  File \"/shared-libs/python3.7/py/lib/python3.7/site-packages/sklearn/tree/_classes.py\", line 1320, in fit\n    X_idx_sorted=X_idx_sorted,\n  File \"/shared-libs/python3.7/py/lib/python3.7/site-packages/sklearn/tree/_classes.py\", line 254, in fit\n    % self.min_samples_split\nValueError: min_samples_split must be an integer greater than 1 or a float in (0.0, 1.0]; got the integer 1\n\n  warnings.warn(some_fits_failed_message, FitFailedWarning)\n/shared-libs/python3.7/py/lib/python3.7/site-packages/sklearn/model_selection/_search.py:972: UserWarning: One or more of the test scores are non-finite: [       nan 0.05815765 0.05815765        nan 0.05815765 0.05815765\n        nan 0.05815765 0.05815765        nan 0.23226026 0.23226026\n        nan 0.23188944 0.23188944        nan 0.23174192 0.23174192\n        nan 0.26155782 0.26144842        nan 0.25987366 0.25987366\n        nan 0.26232944 0.26232944]\n  category=UserWarning,\nColumna: LongitudZancada\nBest CV score: 0.262\nTest score: 0.507\nBest Parameters:\n {'model__max_depth': 3, 'model__min_samples_leaf': 3, 'model__min_samples_split': 2}\n\n/shared-libs/python3.7/py/lib/python3.7/site-packages/sklearn/model_selection/_validation.py:372: FitFailedWarning: \n90 fits failed out of a total of 270.\nThe score on these train-test partitions for these parameters will be set to nan.\nIf these failures are not expected, you can try to debug them by setting error_score='raise'.\n\nBelow are more details about the failures:\n--------------------------------------------------------------------------------\n90 fits failed with the following error:\nTraceback (most recent call last):\n  File \"/shared-libs/python3.7/py/lib/python3.7/site-packages/sklearn/model_selection/_validation.py\", line 680, in _fit_and_score\n    estimator.fit(X_train, y_train, **fit_params)\n  File \"/shared-libs/python3.7/py/lib/python3.7/site-packages/sklearn/pipeline.py\", line 394, in fit\n    self._final_estimator.fit(Xt, y, **fit_params_last_step)\n  File \"/shared-libs/python3.7/py/lib/python3.7/site-packages/sklearn/tree/_classes.py\", line 1320, in fit\n    X_idx_sorted=X_idx_sorted,\n  File \"/shared-libs/python3.7/py/lib/python3.7/site-packages/sklearn/tree/_classes.py\", line 254, in fit\n    % self.min_samples_split\nValueError: min_samples_split must be an integer greater than 1 or a float in (0.0, 1.0]; got the integer 1\n\n  warnings.warn(some_fits_failed_message, FitFailedWarning)\n/shared-libs/python3.7/py/lib/python3.7/site-packages/sklearn/model_selection/_search.py:972: UserWarning: One or more of the test scores are non-finite: [       nan 0.15614003 0.15614003        nan 0.15614003 0.15614003\n        nan 0.15614003 0.15614003        nan 0.22959705 0.22959705\n        nan 0.22959705 0.22959705        nan 0.22959705 0.22959705\n        nan 0.2749378  0.2749378         nan 0.2749378  0.2749378\n        nan 0.27724422 0.27724422]\n  category=UserWarning,\nColumna: Cadencia\nBest CV score: 0.277\nTest score: 0.296\nBest Parameters:\n {'model__max_depth': 3, 'model__min_samples_leaf': 3, 'model__min_samples_split': 2}\n\n/shared-libs/python3.7/py/lib/python3.7/site-packages/sklearn/model_selection/_validation.py:372: FitFailedWarning: \n90 fits failed out of a total of 270.\nThe score on these train-test partitions for these parameters will be set to nan.\nIf these failures are not expected, you can try to debug them by setting error_score='raise'.\n\nBelow are more details about the failures:\n--------------------------------------------------------------------------------\n90 fits failed with the following error:\nTraceback (most recent call last):\n  File \"/shared-libs/python3.7/py/lib/python3.7/site-packages/sklearn/model_selection/_validation.py\", line 680, in _fit_and_score\n    estimator.fit(X_train, y_train, **fit_params)\n  File \"/shared-libs/python3.7/py/lib/python3.7/site-packages/sklearn/pipeline.py\", line 394, in fit\n    self._final_estimator.fit(Xt, y, **fit_params_last_step)\n  File \"/shared-libs/python3.7/py/lib/python3.7/site-packages/sklearn/tree/_classes.py\", line 1320, in fit\n    X_idx_sorted=X_idx_sorted,\n  File \"/shared-libs/python3.7/py/lib/python3.7/site-packages/sklearn/tree/_classes.py\", line 254, in fit\n    % self.min_samples_split\nValueError: min_samples_split must be an integer greater than 1 or a float in (0.0, 1.0]; got the integer 1\n\n  warnings.warn(some_fits_failed_message, FitFailedWarning)\n/shared-libs/python3.7/py/lib/python3.7/site-packages/sklearn/model_selection/_search.py:972: UserWarning: One or more of the test scores are non-finite: [       nan 0.04098249 0.04098249        nan 0.04098249 0.04098249\n        nan 0.04098249 0.04098249        nan 0.1853428  0.1853428\n        nan 0.1853428  0.1853428         nan 0.1853428  0.1853428\n        nan 0.26860467 0.26860467        nan 0.26792824 0.26792824\n        nan 0.26792824 0.26792824]\n  category=UserWarning,\nColumna: Velocidad\nBest CV score: 0.269\nTest score: 0.176\nBest Parameters:\n {'model__max_depth': 3, 'model__min_samples_leaf': 1, 'model__min_samples_split': 2}\n\n/shared-libs/python3.7/py/lib/python3.7/site-packages/sklearn/model_selection/_validation.py:372: FitFailedWarning: \n90 fits failed out of a total of 270.\nThe score on these train-test partitions for these parameters will be set to nan.\nIf these failures are not expected, you can try to debug them by setting error_score='raise'.\n\nBelow are more details about the failures:\n--------------------------------------------------------------------------------\n90 fits failed with the following error:\nTraceback (most recent call last):\n  File \"/shared-libs/python3.7/py/lib/python3.7/site-packages/sklearn/model_selection/_validation.py\", line 680, in _fit_and_score\n    estimator.fit(X_train, y_train, **fit_params)\n  File \"/shared-libs/python3.7/py/lib/python3.7/site-packages/sklearn/pipeline.py\", line 394, in fit\n    self._final_estimator.fit(Xt, y, **fit_params_last_step)\n  File \"/shared-libs/python3.7/py/lib/python3.7/site-packages/sklearn/tree/_classes.py\", line 1320, in fit\n    X_idx_sorted=X_idx_sorted,\n  File \"/shared-libs/python3.7/py/lib/python3.7/site-packages/sklearn/tree/_classes.py\", line 254, in fit\n    % self.min_samples_split\nValueError: min_samples_split must be an integer greater than 1 or a float in (0.0, 1.0]; got the integer 1\n\n  warnings.warn(some_fits_failed_message, FitFailedWarning)\n/shared-libs/python3.7/py/lib/python3.7/site-packages/sklearn/model_selection/_search.py:972: UserWarning: One or more of the test scores are non-finite: [       nan 0.05210976 0.05210976        nan 0.05210976 0.05210976\n        nan 0.05210976 0.05210976        nan 0.15377646 0.15377646\n        nan 0.15377646 0.15377646        nan 0.15377646 0.15377646\n        nan 0.16917166 0.16917166        nan 0.17673885 0.17673885\n        nan 0.15669908 0.15669908]\n  category=UserWarning,\nColumna: LongitudZancada\nBest CV score: 0.177\nTest score: 0.227\nBest Parameters:\n {'model__max_depth': 3, 'model__min_samples_leaf': 2, 'model__min_samples_split': 2}\n\n/shared-libs/python3.7/py/lib/python3.7/site-packages/sklearn/model_selection/_validation.py:372: FitFailedWarning: \n90 fits failed out of a total of 270.\nThe score on these train-test partitions for these parameters will be set to nan.\nIf these failures are not expected, you can try to debug them by setting error_score='raise'.\n\nBelow are more details about the failures:\n--------------------------------------------------------------------------------\n90 fits failed with the following error:\nTraceback (most recent call last):\n  File \"/shared-libs/python3.7/py/lib/python3.7/site-packages/sklearn/model_selection/_validation.py\", line 680, in _fit_and_score\n    estimator.fit(X_train, y_train, **fit_params)\n  File \"/shared-libs/python3.7/py/lib/python3.7/site-packages/sklearn/pipeline.py\", line 394, in fit\n    self._final_estimator.fit(Xt, y, **fit_params_last_step)\n  File \"/shared-libs/python3.7/py/lib/python3.7/site-packages/sklearn/tree/_classes.py\", line 1320, in fit\n    X_idx_sorted=X_idx_sorted,\n  File \"/shared-libs/python3.7/py/lib/python3.7/site-packages/sklearn/tree/_classes.py\", line 254, in fit\n    % self.min_samples_split\nValueError: min_samples_split must be an integer greater than 1 or a float in (0.0, 1.0]; got the integer 1\n\n  warnings.warn(some_fits_failed_message, FitFailedWarning)\n/shared-libs/python3.7/py/lib/python3.7/site-packages/sklearn/model_selection/_search.py:972: UserWarning: One or more of the test scores are non-finite: [       nan 0.15791925 0.15791925        nan 0.15791925 0.15791925\n        nan 0.15791925 0.15791925        nan 0.2789796  0.2789796\n        nan 0.2789796  0.2789796         nan 0.2789796  0.2789796\n        nan 0.37391646 0.37391646        nan 0.37153291 0.37153291\n        nan 0.36397837 0.36397837]\n  category=UserWarning,\nColumna: Cadencia\nBest CV score: 0.374\nTest score: 0.383\nBest Parameters:\n {'model__max_depth': 3, 'model__min_samples_leaf': 1, 'model__min_samples_split': 2}\n\n/shared-libs/python3.7/py/lib/python3.7/site-packages/sklearn/model_selection/_validation.py:372: FitFailedWarning: \n90 fits failed out of a total of 270.\nThe score on these train-test partitions for these parameters will be set to nan.\nIf these failures are not expected, you can try to debug them by setting error_score='raise'.\n\nBelow are more details about the failures:\n--------------------------------------------------------------------------------\n90 fits failed with the following error:\nTraceback (most recent call last):\n  File \"/shared-libs/python3.7/py/lib/python3.7/site-packages/sklearn/model_selection/_validation.py\", line 680, in _fit_and_score\n    estimator.fit(X_train, y_train, **fit_params)\n  File \"/shared-libs/python3.7/py/lib/python3.7/site-packages/sklearn/pipeline.py\", line 394, in fit\n    self._final_estimator.fit(Xt, y, **fit_params_last_step)\n  File \"/shared-libs/python3.7/py/lib/python3.7/site-packages/sklearn/tree/_classes.py\", line 1320, in fit\n    X_idx_sorted=X_idx_sorted,\n  File \"/shared-libs/python3.7/py/lib/python3.7/site-packages/sklearn/tree/_classes.py\", line 254, in fit\n    % self.min_samples_split\nValueError: min_samples_split must be an integer greater than 1 or a float in (0.0, 1.0]; got the integer 1\n\n  warnings.warn(some_fits_failed_message, FitFailedWarning)\n/shared-libs/python3.7/py/lib/python3.7/site-packages/sklearn/model_selection/_search.py:972: UserWarning: One or more of the test scores are non-finite: [       nan 0.17369385 0.17369385        nan 0.17369385 0.17369385\n        nan 0.17369385 0.17369385        nan 0.40066479 0.40066479\n        nan 0.40066479 0.40066479        nan 0.40066479 0.40066479\n        nan 0.46509383 0.46509383        nan 0.4732571  0.4732571\n        nan 0.4754077  0.4754077 ]\n  category=UserWarning,\nColumna: Velocidad\nBest CV score: 0.475\nTest score: 0.350\nBest Parameters:\n {'model__max_depth': 3, 'model__min_samples_leaf': 3, 'model__min_samples_split': 2}\n\n/shared-libs/python3.7/py/lib/python3.7/site-packages/sklearn/model_selection/_validation.py:372: FitFailedWarning: \n90 fits failed out of a total of 270.\nThe score on these train-test partitions for these parameters will be set to nan.\nIf these failures are not expected, you can try to debug them by setting error_score='raise'.\n\nBelow are more details about the failures:\n--------------------------------------------------------------------------------\n90 fits failed with the following error:\nTraceback (most recent call last):\n  File \"/shared-libs/python3.7/py/lib/python3.7/site-packages/sklearn/model_selection/_validation.py\", line 680, in _fit_and_score\n    estimator.fit(X_train, y_train, **fit_params)\n  File \"/shared-libs/python3.7/py/lib/python3.7/site-packages/sklearn/pipeline.py\", line 394, in fit\n    self._final_estimator.fit(Xt, y, **fit_params_last_step)\n  File \"/shared-libs/python3.7/py/lib/python3.7/site-packages/sklearn/tree/_classes.py\", line 1320, in fit\n    X_idx_sorted=X_idx_sorted,\n  File \"/shared-libs/python3.7/py/lib/python3.7/site-packages/sklearn/tree/_classes.py\", line 254, in fit\n    % self.min_samples_split\nValueError: min_samples_split must be an integer greater than 1 or a float in (0.0, 1.0]; got the integer 1\n\n  warnings.warn(some_fits_failed_message, FitFailedWarning)\n/shared-libs/python3.7/py/lib/python3.7/site-packages/sklearn/model_selection/_search.py:972: UserWarning: One or more of the test scores are non-finite: [       nan 0.1465006  0.1465006         nan 0.1465006  0.1465006\n        nan 0.1465006  0.1465006         nan 0.26221923 0.26221923\n        nan 0.26193755 0.26193755        nan 0.27645002 0.27645002\n        nan 0.32052313 0.32052313        nan 0.3193641  0.3193641\n        nan 0.32962182 0.32962182]\n  category=UserWarning,\nColumna: LongitudZancada\nBest CV score: 0.330\nTest score: 0.445\nBest Parameters:\n {'model__max_depth': 3, 'model__min_samples_leaf': 3, 'model__min_samples_split': 2}\n\n/shared-libs/python3.7/py/lib/python3.7/site-packages/sklearn/model_selection/_validation.py:372: FitFailedWarning: \n90 fits failed out of a total of 270.\nThe score on these train-test partitions for these parameters will be set to nan.\nIf these failures are not expected, you can try to debug them by setting error_score='raise'.\n\nBelow are more details about the failures:\n--------------------------------------------------------------------------------\n90 fits failed with the following error:\nTraceback (most recent call last):\n  File \"/shared-libs/python3.7/py/lib/python3.7/site-packages/sklearn/model_selection/_validation.py\", line 680, in _fit_and_score\n    estimator.fit(X_train, y_train, **fit_params)\n  File \"/shared-libs/python3.7/py/lib/python3.7/site-packages/sklearn/pipeline.py\", line 394, in fit\n    self._final_estimator.fit(Xt, y, **fit_params_last_step)\n  File \"/shared-libs/python3.7/py/lib/python3.7/site-packages/sklearn/tree/_classes.py\", line 1320, in fit\n    X_idx_sorted=X_idx_sorted,\n  File \"/shared-libs/python3.7/py/lib/python3.7/site-packages/sklearn/tree/_classes.py\", line 254, in fit\n    % self.min_samples_split\nValueError: min_samples_split must be an integer greater than 1 or a float in (0.0, 1.0]; got the integer 1\n\n  warnings.warn(some_fits_failed_message, FitFailedWarning)\n/shared-libs/python3.7/py/lib/python3.7/site-packages/sklearn/model_selection/_search.py:972: UserWarning: One or more of the test scores are non-finite: [       nan 0.1556806  0.1556806         nan 0.1556806  0.1556806\n        nan 0.1556806  0.1556806         nan 0.31939856 0.31939856\n        nan 0.31939856 0.31939856        nan 0.31939856 0.31939856\n        nan 0.42894123 0.42894123        nan 0.42894123 0.42894123\n        nan 0.42478409 0.42478409]\n  category=UserWarning,\nColumna: Cadencia\nBest CV score: 0.429\nTest score: 0.400\nBest Parameters:\n {'model__max_depth': 3, 'model__min_samples_leaf': 1, 'model__min_samples_split': 2}\n\n/shared-libs/python3.7/py/lib/python3.7/site-packages/sklearn/model_selection/_validation.py:372: FitFailedWarning: \n90 fits failed out of a total of 270.\nThe score on these train-test partitions for these parameters will be set to nan.\nIf these failures are not expected, you can try to debug them by setting error_score='raise'.\n\nBelow are more details about the failures:\n--------------------------------------------------------------------------------\n90 fits failed with the following error:\nTraceback (most recent call last):\n  File \"/shared-libs/python3.7/py/lib/python3.7/site-packages/sklearn/model_selection/_validation.py\", line 680, in _fit_and_score\n    estimator.fit(X_train, y_train, **fit_params)\n  File \"/shared-libs/python3.7/py/lib/python3.7/site-packages/sklearn/pipeline.py\", line 394, in fit\n    self._final_estimator.fit(Xt, y, **fit_params_last_step)\n  File \"/shared-libs/python3.7/py/lib/python3.7/site-packages/sklearn/tree/_classes.py\", line 1320, in fit\n    X_idx_sorted=X_idx_sorted,\n  File \"/shared-libs/python3.7/py/lib/python3.7/site-packages/sklearn/tree/_classes.py\", line 254, in fit\n    % self.min_samples_split\nValueError: min_samples_split must be an integer greater than 1 or a float in (0.0, 1.0]; got the integer 1\n\n  warnings.warn(some_fits_failed_message, FitFailedWarning)\n/shared-libs/python3.7/py/lib/python3.7/site-packages/sklearn/model_selection/_search.py:972: UserWarning: One or more of the test scores are non-finite: [        nan -0.0071115  -0.0071115          nan -0.0071115  -0.0071115\n         nan -0.0071115  -0.0071115          nan  0.24156681  0.24156681\n         nan  0.24156681  0.24156681         nan  0.24156681  0.24156681\n         nan  0.39867959  0.39867959         nan  0.4050115   0.4050115\n         nan  0.3687038   0.3687038 ]\n  category=UserWarning,\nColumna: Velocidad\nBest CV score: 0.405\nTest score: 0.395\nBest Parameters:\n {'model__max_depth': 3, 'model__min_samples_leaf': 2, 'model__min_samples_split': 2}\n\n/shared-libs/python3.7/py/lib/python3.7/site-packages/sklearn/model_selection/_validation.py:372: FitFailedWarning: \n90 fits failed out of a total of 270.\nThe score on these train-test partitions for these parameters will be set to nan.\nIf these failures are not expected, you can try to debug them by setting error_score='raise'.\n\nBelow are more details about the failures:\n--------------------------------------------------------------------------------\n90 fits failed with the following error:\nTraceback (most recent call last):\n  File \"/shared-libs/python3.7/py/lib/python3.7/site-packages/sklearn/model_selection/_validation.py\", line 680, in _fit_and_score\n    estimator.fit(X_train, y_train, **fit_params)\n  File \"/shared-libs/python3.7/py/lib/python3.7/site-packages/sklearn/pipeline.py\", line 394, in fit\n    self._final_estimator.fit(Xt, y, **fit_params_last_step)\n  File \"/shared-libs/python3.7/py/lib/python3.7/site-packages/sklearn/tree/_classes.py\", line 1320, in fit\n    X_idx_sorted=X_idx_sorted,\n  File \"/shared-libs/python3.7/py/lib/python3.7/site-packages/sklearn/tree/_classes.py\", line 254, in fit\n    % self.min_samples_split\nValueError: min_samples_split must be an integer greater than 1 or a float in (0.0, 1.0]; got the integer 1\n\n  warnings.warn(some_fits_failed_message, FitFailedWarning)\n/shared-libs/python3.7/py/lib/python3.7/site-packages/sklearn/model_selection/_search.py:972: UserWarning: One or more of the test scores are non-finite: [        nan -0.00434638 -0.00434638         nan -0.00434638 -0.00434638\n         nan -0.00434638 -0.00434638         nan  0.23498089  0.23498089\n         nan  0.23498089  0.23498089         nan  0.23498089  0.23498089\n         nan  0.32535753  0.32535753         nan  0.32541478  0.32541478\n         nan  0.32523628  0.32523628]\n  category=UserWarning,\nColumna: LongitudZancada\nBest CV score: 0.325\nTest score: 0.241\nBest Parameters:\n {'model__max_depth': 3, 'model__min_samples_leaf': 2, 'model__min_samples_split': 2}\n\n/shared-libs/python3.7/py/lib/python3.7/site-packages/sklearn/model_selection/_validation.py:372: FitFailedWarning: \n90 fits failed out of a total of 270.\nThe score on these train-test partitions for these parameters will be set to nan.\nIf these failures are not expected, you can try to debug them by setting error_score='raise'.\n\nBelow are more details about the failures:\n--------------------------------------------------------------------------------\n90 fits failed with the following error:\nTraceback (most recent call last):\n  File \"/shared-libs/python3.7/py/lib/python3.7/site-packages/sklearn/model_selection/_validation.py\", line 680, in _fit_and_score\n    estimator.fit(X_train, y_train, **fit_params)\n  File \"/shared-libs/python3.7/py/lib/python3.7/site-packages/sklearn/pipeline.py\", line 394, in fit\n    self._final_estimator.fit(Xt, y, **fit_params_last_step)\n  File \"/shared-libs/python3.7/py/lib/python3.7/site-packages/sklearn/tree/_classes.py\", line 1320, in fit\n    X_idx_sorted=X_idx_sorted,\n  File \"/shared-libs/python3.7/py/lib/python3.7/site-packages/sklearn/tree/_classes.py\", line 254, in fit\n    % self.min_samples_split\nValueError: min_samples_split must be an integer greater than 1 or a float in (0.0, 1.0]; got the integer 1\n\n  warnings.warn(some_fits_failed_message, FitFailedWarning)\n/shared-libs/python3.7/py/lib/python3.7/site-packages/sklearn/model_selection/_search.py:972: UserWarning: One or more of the test scores are non-finite: [       nan 0.30676066 0.30676066        nan 0.30676066 0.30676066\n        nan 0.30676066 0.30676066        nan 0.46930684 0.46930684\n        nan 0.46930684 0.46930684        nan 0.46930684 0.46930684\n        nan 0.49509062 0.49509062        nan 0.494842   0.494842\n        nan 0.50365968 0.50365968]\n  category=UserWarning,\nColumna: Cadencia\nBest CV score: 0.504\nTest score: 0.540\nBest Parameters:\n {'model__max_depth': 3, 'model__min_samples_leaf': 3, 'model__min_samples_split': 2}\n\n/shared-libs/python3.7/py/lib/python3.7/site-packages/sklearn/model_selection/_validation.py:372: FitFailedWarning: \n90 fits failed out of a total of 270.\nThe score on these train-test partitions for these parameters will be set to nan.\nIf these failures are not expected, you can try to debug them by setting error_score='raise'.\n\nBelow are more details about the failures:\n--------------------------------------------------------------------------------\n90 fits failed with the following error:\nTraceback (most recent call last):\n  File \"/shared-libs/python3.7/py/lib/python3.7/site-packages/sklearn/model_selection/_validation.py\", line 680, in _fit_and_score\n    estimator.fit(X_train, y_train, **fit_params)\n  File \"/shared-libs/python3.7/py/lib/python3.7/site-packages/sklearn/pipeline.py\", line 394, in fit\n    self._final_estimator.fit(Xt, y, **fit_params_last_step)\n  File \"/shared-libs/python3.7/py/lib/python3.7/site-packages/sklearn/tree/_classes.py\", line 1320, in fit\n    X_idx_sorted=X_idx_sorted,\n  File \"/shared-libs/python3.7/py/lib/python3.7/site-packages/sklearn/tree/_classes.py\", line 254, in fit\n    % self.min_samples_split\nValueError: min_samples_split must be an integer greater than 1 or a float in (0.0, 1.0]; got the integer 1\n\n  warnings.warn(some_fits_failed_message, FitFailedWarning)\n/shared-libs/python3.7/py/lib/python3.7/site-packages/sklearn/model_selection/_search.py:972: UserWarning: One or more of the test scores are non-finite: [       nan 0.41737559 0.41737559        nan 0.41737559 0.41737559\n        nan 0.41737559 0.41737559        nan 0.60546262 0.60546262\n        nan 0.60546262 0.60546262        nan 0.60546262 0.60546262\n        nan 0.66670616 0.66670616        nan 0.66670616 0.66670616\n        nan 0.66670616 0.66670616]\n  category=UserWarning,\nColumna: Velocidad\nBest CV score: 0.667\nTest score: 0.528\nBest Parameters:\n {'model__max_depth': 3, 'model__min_samples_leaf': 1, 'model__min_samples_split': 2}\n\n/shared-libs/python3.7/py/lib/python3.7/site-packages/sklearn/model_selection/_validation.py:372: FitFailedWarning: \n90 fits failed out of a total of 270.\nThe score on these train-test partitions for these parameters will be set to nan.\nIf these failures are not expected, you can try to debug them by setting error_score='raise'.\n\nBelow are more details about the failures:\n--------------------------------------------------------------------------------\n90 fits failed with the following error:\nTraceback (most recent call last):\n  File \"/shared-libs/python3.7/py/lib/python3.7/site-packages/sklearn/model_selection/_validation.py\", line 680, in _fit_and_score\n    estimator.fit(X_train, y_train, **fit_params)\n  File \"/shared-libs/python3.7/py/lib/python3.7/site-packages/sklearn/pipeline.py\", line 394, in fit\n    self._final_estimator.fit(Xt, y, **fit_params_last_step)\n  File \"/shared-libs/python3.7/py/lib/python3.7/site-packages/sklearn/tree/_classes.py\", line 1320, in fit\n    X_idx_sorted=X_idx_sorted,\n  File \"/shared-libs/python3.7/py/lib/python3.7/site-packages/sklearn/tree/_classes.py\", line 254, in fit\n    % self.min_samples_split\nValueError: min_samples_split must be an integer greater than 1 or a float in (0.0, 1.0]; got the integer 1\n\n  warnings.warn(some_fits_failed_message, FitFailedWarning)\n/shared-libs/python3.7/py/lib/python3.7/site-packages/sklearn/model_selection/_search.py:972: UserWarning: One or more of the test scores are non-finite: [       nan 0.20348015 0.20348015        nan 0.20348015 0.20348015\n        nan 0.20348015 0.20348015        nan 0.40871958 0.40871958\n        nan 0.40871958 0.40871958        nan 0.40871958 0.40871958\n        nan 0.44879878 0.44879878        nan 0.44879878 0.44879878\n        nan 0.44879878 0.44879878]\n  category=UserWarning,\nColumna: LongitudZancada\nBest CV score: 0.449\nTest score: 0.257\nBest Parameters:\n {'model__max_depth': 3, 'model__min_samples_leaf': 1, 'model__min_samples_split': 2}\n\n/shared-libs/python3.7/py/lib/python3.7/site-packages/sklearn/model_selection/_validation.py:372: FitFailedWarning: \n90 fits failed out of a total of 270.\nThe score on these train-test partitions for these parameters will be set to nan.\nIf these failures are not expected, you can try to debug them by setting error_score='raise'.\n\nBelow are more details about the failures:\n--------------------------------------------------------------------------------\n90 fits failed with the following error:\nTraceback (most recent call last):\n  File \"/shared-libs/python3.7/py/lib/python3.7/site-packages/sklearn/model_selection/_validation.py\", line 680, in _fit_and_score\n    estimator.fit(X_train, y_train, **fit_params)\n  File \"/shared-libs/python3.7/py/lib/python3.7/site-packages/sklearn/pipeline.py\", line 394, in fit\n    self._final_estimator.fit(Xt, y, **fit_params_last_step)\n  File \"/shared-libs/python3.7/py/lib/python3.7/site-packages/sklearn/tree/_classes.py\", line 1320, in fit\n    X_idx_sorted=X_idx_sorted,\n  File \"/shared-libs/python3.7/py/lib/python3.7/site-packages/sklearn/tree/_classes.py\", line 254, in fit\n    % self.min_samples_split\nValueError: min_samples_split must be an integer greater than 1 or a float in (0.0, 1.0]; got the integer 1\n\n  warnings.warn(some_fits_failed_message, FitFailedWarning)\n/shared-libs/python3.7/py/lib/python3.7/site-packages/sklearn/model_selection/_search.py:972: UserWarning: One or more of the test scores are non-finite: [       nan 0.31710908 0.31710908        nan 0.31710908 0.31710908\n        nan 0.31710908 0.31710908        nan 0.46809869 0.46809869\n        nan 0.46809869 0.46809869        nan 0.46809869 0.46809869\n        nan 0.5755824  0.5755824         nan 0.5755824  0.5755824\n        nan 0.5755824  0.5755824 ]\n  category=UserWarning,\nColumna: Cadencia\nBest CV score: 0.576\nTest score: 0.679\nBest Parameters:\n {'model__max_depth': 3, 'model__min_samples_leaf': 1, 'model__min_samples_split': 2}\n\n/shared-libs/python3.7/py/lib/python3.7/site-packages/sklearn/model_selection/_validation.py:372: FitFailedWarning: \n90 fits failed out of a total of 270.\nThe score on these train-test partitions for these parameters will be set to nan.\nIf these failures are not expected, you can try to debug them by setting error_score='raise'.\n\nBelow are more details about the failures:\n--------------------------------------------------------------------------------\n90 fits failed with the following error:\nTraceback (most recent call last):\n  File \"/shared-libs/python3.7/py/lib/python3.7/site-packages/sklearn/model_selection/_validation.py\", line 680, in _fit_and_score\n    estimator.fit(X_train, y_train, **fit_params)\n  File \"/shared-libs/python3.7/py/lib/python3.7/site-packages/sklearn/pipeline.py\", line 394, in fit\n    self._final_estimator.fit(Xt, y, **fit_params_last_step)\n  File \"/shared-libs/python3.7/py/lib/python3.7/site-packages/sklearn/tree/_classes.py\", line 1320, in fit\n    X_idx_sorted=X_idx_sorted,\n  File \"/shared-libs/python3.7/py/lib/python3.7/site-packages/sklearn/tree/_classes.py\", line 254, in fit\n    % self.min_samples_split\nValueError: min_samples_split must be an integer greater than 1 or a float in (0.0, 1.0]; got the integer 1\n\n  warnings.warn(some_fits_failed_message, FitFailedWarning)\n/shared-libs/python3.7/py/lib/python3.7/site-packages/sklearn/model_selection/_search.py:972: UserWarning: One or more of the test scores are non-finite: [       nan 0.40746947 0.40746947        nan 0.40746947 0.40746947\n        nan 0.40746947 0.40746947        nan 0.54245297 0.54245297\n        nan 0.54245297 0.54245297        nan 0.54245297 0.54245297\n        nan 0.73638365 0.73638365        nan 0.73638365 0.73638365\n        nan 0.73638365 0.73638365]\n  category=UserWarning,\nColumna: Velocidad\nBest CV score: 0.736\nTest score: 0.703\nBest Parameters:\n {'model__max_depth': 3, 'model__min_samples_leaf': 1, 'model__min_samples_split': 2}\n\n/shared-libs/python3.7/py/lib/python3.7/site-packages/sklearn/model_selection/_validation.py:372: FitFailedWarning: \n90 fits failed out of a total of 270.\nThe score on these train-test partitions for these parameters will be set to nan.\nIf these failures are not expected, you can try to debug them by setting error_score='raise'.\n\nBelow are more details about the failures:\n--------------------------------------------------------------------------------\n90 fits failed with the following error:\nTraceback (most recent call last):\n  File \"/shared-libs/python3.7/py/lib/python3.7/site-packages/sklearn/model_selection/_validation.py\", line 680, in _fit_and_score\n    estimator.fit(X_train, y_train, **fit_params)\n  File \"/shared-libs/python3.7/py/lib/python3.7/site-packages/sklearn/pipeline.py\", line 394, in fit\n    self._final_estimator.fit(Xt, y, **fit_params_last_step)\n  File \"/shared-libs/python3.7/py/lib/python3.7/site-packages/sklearn/tree/_classes.py\", line 1320, in fit\n    X_idx_sorted=X_idx_sorted,\n  File \"/shared-libs/python3.7/py/lib/python3.7/site-packages/sklearn/tree/_classes.py\", line 254, in fit\n    % self.min_samples_split\nValueError: min_samples_split must be an integer greater than 1 or a float in (0.0, 1.0]; got the integer 1\n\n  warnings.warn(some_fits_failed_message, FitFailedWarning)\n/shared-libs/python3.7/py/lib/python3.7/site-packages/sklearn/model_selection/_search.py:972: UserWarning: One or more of the test scores are non-finite: [       nan 0.22099321 0.22099321        nan 0.22099321 0.22099321\n        nan 0.22099321 0.22099321        nan 0.37330391 0.37330391\n        nan 0.37330391 0.37330391        nan 0.36921876 0.36921876\n        nan 0.56032365 0.56032365        nan 0.56032365 0.56032365\n        nan 0.56379091 0.56379091]\n  category=UserWarning,\nColumna: LongitudZancada\nBest CV score: 0.564\nTest score: 0.676\nBest Parameters:\n {'model__max_depth': 3, 'model__min_samples_leaf': 3, 'model__min_samples_split': 2}\n\n/shared-libs/python3.7/py/lib/python3.7/site-packages/sklearn/model_selection/_validation.py:372: FitFailedWarning: \n90 fits failed out of a total of 270.\nThe score on these train-test partitions for these parameters will be set to nan.\nIf these failures are not expected, you can try to debug them by setting error_score='raise'.\n\nBelow are more details about the failures:\n--------------------------------------------------------------------------------\n90 fits failed with the following error:\nTraceback (most recent call last):\n  File \"/shared-libs/python3.7/py/lib/python3.7/site-packages/sklearn/model_selection/_validation.py\", line 680, in _fit_and_score\n    estimator.fit(X_train, y_train, **fit_params)\n  File \"/shared-libs/python3.7/py/lib/python3.7/site-packages/sklearn/pipeline.py\", line 394, in fit\n    self._final_estimator.fit(Xt, y, **fit_params_last_step)\n  File \"/shared-libs/python3.7/py/lib/python3.7/site-packages/sklearn/tree/_classes.py\", line 1320, in fit\n    X_idx_sorted=X_idx_sorted,\n  File \"/shared-libs/python3.7/py/lib/python3.7/site-packages/sklearn/tree/_classes.py\", line 254, in fit\n    % self.min_samples_split\nValueError: min_samples_split must be an integer greater than 1 or a float in (0.0, 1.0]; got the integer 1\n\n  warnings.warn(some_fits_failed_message, FitFailedWarning)\n/shared-libs/python3.7/py/lib/python3.7/site-packages/sklearn/model_selection/_search.py:972: UserWarning: One or more of the test scores are non-finite: [       nan 0.20310189 0.20310189        nan 0.20310189 0.20310189\n        nan 0.20310189 0.20310189        nan 0.26903425 0.26903425\n        nan 0.26903425 0.26903425        nan 0.26903425 0.26903425\n        nan 0.32185074 0.32185074        nan 0.33080705 0.33080705\n        nan 0.33080705 0.33080705]\n  category=UserWarning,\nColumna: Cadencia\nBest CV score: 0.331\nTest score: 0.327\nBest Parameters:\n {'model__max_depth': 3, 'model__min_samples_leaf': 2, 'model__min_samples_split': 2}\n\n/shared-libs/python3.7/py/lib/python3.7/site-packages/sklearn/model_selection/_validation.py:372: FitFailedWarning: \n90 fits failed out of a total of 270.\nThe score on these train-test partitions for these parameters will be set to nan.\nIf these failures are not expected, you can try to debug them by setting error_score='raise'.\n\nBelow are more details about the failures:\n--------------------------------------------------------------------------------\n90 fits failed with the following error:\nTraceback (most recent call last):\n  File \"/shared-libs/python3.7/py/lib/python3.7/site-packages/sklearn/model_selection/_validation.py\", line 680, in _fit_and_score\n    estimator.fit(X_train, y_train, **fit_params)\n  File \"/shared-libs/python3.7/py/lib/python3.7/site-packages/sklearn/pipeline.py\", line 394, in fit\n    self._final_estimator.fit(Xt, y, **fit_params_last_step)\n  File \"/shared-libs/python3.7/py/lib/python3.7/site-packages/sklearn/tree/_classes.py\", line 1320, in fit\n    X_idx_sorted=X_idx_sorted,\n  File \"/shared-libs/python3.7/py/lib/python3.7/site-packages/sklearn/tree/_classes.py\", line 254, in fit\n    % self.min_samples_split\nValueError: min_samples_split must be an integer greater than 1 or a float in (0.0, 1.0]; got the integer 1\n\n  warnings.warn(some_fits_failed_message, FitFailedWarning)\n/shared-libs/python3.7/py/lib/python3.7/site-packages/sklearn/model_selection/_search.py:972: UserWarning: One or more of the test scores are non-finite: [       nan 0.23262664 0.23262664        nan 0.23262664 0.23262664\n        nan 0.23262664 0.23262664        nan 0.32265919 0.32265919\n        nan 0.32265919 0.32265919        nan 0.32265919 0.32265919\n        nan 0.4161777  0.4161777         nan 0.4161777  0.4161777\n        nan 0.38848189 0.38848189]\n  category=UserWarning,\nColumna: Velocidad\nBest CV score: 0.416\nTest score: 0.443\nBest Parameters:\n {'model__max_depth': 3, 'model__min_samples_leaf': 1, 'model__min_samples_split': 2}\n\n/shared-libs/python3.7/py/lib/python3.7/site-packages/sklearn/model_selection/_validation.py:372: FitFailedWarning: \n90 fits failed out of a total of 270.\nThe score on these train-test partitions for these parameters will be set to nan.\nIf these failures are not expected, you can try to debug them by setting error_score='raise'.\n\nBelow are more details about the failures:\n--------------------------------------------------------------------------------\n90 fits failed with the following error:\nTraceback (most recent call last):\n  File \"/shared-libs/python3.7/py/lib/python3.7/site-packages/sklearn/model_selection/_validation.py\", line 680, in _fit_and_score\n    estimator.fit(X_train, y_train, **fit_params)\n  File \"/shared-libs/python3.7/py/lib/python3.7/site-packages/sklearn/pipeline.py\", line 394, in fit\n    self._final_estimator.fit(Xt, y, **fit_params_last_step)\n  File \"/shared-libs/python3.7/py/lib/python3.7/site-packages/sklearn/tree/_classes.py\", line 1320, in fit\n    X_idx_sorted=X_idx_sorted,\n  File \"/shared-libs/python3.7/py/lib/python3.7/site-packages/sklearn/tree/_classes.py\", line 254, in fit\n    % self.min_samples_split\nValueError: min_samples_split must be an integer greater than 1 or a float in (0.0, 1.0]; got the integer 1\n\n  warnings.warn(some_fits_failed_message, FitFailedWarning)\n/shared-libs/python3.7/py/lib/python3.7/site-packages/sklearn/model_selection/_search.py:972: UserWarning: One or more of the test scores are non-finite: [       nan 0.06001432 0.06001432        nan 0.06001432 0.06001432\n        nan 0.06001432 0.06001432        nan 0.11809004 0.11809004\n        nan 0.11809004 0.11809004        nan 0.11809004 0.11809004\n        nan 0.29629351 0.29629351        nan 0.29898735 0.29898735\n        nan 0.30047536 0.30047536]\n  category=UserWarning,\nColumna: LongitudZancada\nBest CV score: 0.300\nTest score: 0.419\nBest Parameters:\n {'model__max_depth': 3, 'model__min_samples_leaf': 3, 'model__min_samples_split': 2}\n\n/shared-libs/python3.7/py/lib/python3.7/site-packages/sklearn/model_selection/_validation.py:372: FitFailedWarning: \n90 fits failed out of a total of 270.\nThe score on these train-test partitions for these parameters will be set to nan.\nIf these failures are not expected, you can try to debug them by setting error_score='raise'.\n\nBelow are more details about the failures:\n--------------------------------------------------------------------------------\n90 fits failed with the following error:\nTraceback (most recent call last):\n  File \"/shared-libs/python3.7/py/lib/python3.7/site-packages/sklearn/model_selection/_validation.py\", line 680, in _fit_and_score\n    estimator.fit(X_train, y_train, **fit_params)\n  File \"/shared-libs/python3.7/py/lib/python3.7/site-packages/sklearn/pipeline.py\", line 394, in fit\n    self._final_estimator.fit(Xt, y, **fit_params_last_step)\n  File \"/shared-libs/python3.7/py/lib/python3.7/site-packages/sklearn/tree/_classes.py\", line 1320, in fit\n    X_idx_sorted=X_idx_sorted,\n  File \"/shared-libs/python3.7/py/lib/python3.7/site-packages/sklearn/tree/_classes.py\", line 254, in fit\n    % self.min_samples_split\nValueError: min_samples_split must be an integer greater than 1 or a float in (0.0, 1.0]; got the integer 1\n\n  warnings.warn(some_fits_failed_message, FitFailedWarning)\n/shared-libs/python3.7/py/lib/python3.7/site-packages/sklearn/model_selection/_search.py:972: UserWarning: One or more of the test scores are non-finite: [       nan 0.34498859 0.34498859        nan 0.34498859 0.34498859\n        nan 0.34498859 0.34498859        nan 0.51605914 0.51605914\n        nan 0.51605914 0.51605914        nan 0.51605914 0.51605914\n        nan 0.59222235 0.59222235        nan 0.59232697 0.59232697\n        nan 0.59545423 0.59545423]\n  category=UserWarning,\nColumna: Cadencia\nBest CV score: 0.595\nTest score: 0.542\nBest Parameters:\n {'model__max_depth': 3, 'model__min_samples_leaf': 3, 'model__min_samples_split': 2}\n\n/shared-libs/python3.7/py/lib/python3.7/site-packages/sklearn/model_selection/_validation.py:372: FitFailedWarning: \n90 fits failed out of a total of 270.\nThe score on these train-test partitions for these parameters will be set to nan.\nIf these failures are not expected, you can try to debug them by setting error_score='raise'.\n\nBelow are more details about the failures:\n--------------------------------------------------------------------------------\n90 fits failed with the following error:\nTraceback (most recent call last):\n  File \"/shared-libs/python3.7/py/lib/python3.7/site-packages/sklearn/model_selection/_validation.py\", line 680, in _fit_and_score\n    estimator.fit(X_train, y_train, **fit_params)\n  File \"/shared-libs/python3.7/py/lib/python3.7/site-packages/sklearn/pipeline.py\", line 394, in fit\n    self._final_estimator.fit(Xt, y, **fit_params_last_step)\n  File \"/shared-libs/python3.7/py/lib/python3.7/site-packages/sklearn/tree/_classes.py\", line 1320, in fit\n    X_idx_sorted=X_idx_sorted,\n  File \"/shared-libs/python3.7/py/lib/python3.7/site-packages/sklearn/tree/_classes.py\", line 254, in fit\n    % self.min_samples_split\nValueError: min_samples_split must be an integer greater than 1 or a float in (0.0, 1.0]; got the integer 1\n\n  warnings.warn(some_fits_failed_message, FitFailedWarning)\n/shared-libs/python3.7/py/lib/python3.7/site-packages/sklearn/model_selection/_search.py:972: UserWarning: One or more of the test scores are non-finite: [       nan 0.68930345 0.68930345        nan 0.68930345 0.68930345\n        nan 0.68930345 0.68930345        nan 0.82084998 0.82084998\n        nan 0.82084998 0.82084998        nan 0.82084998 0.82084998\n        nan 0.86594169 0.86594169        nan 0.86594169 0.86594169\n        nan 0.86594169 0.86594169]\n  category=UserWarning,\nColumna: Velocidad\nBest CV score: 0.866\nTest score: 0.910\nBest Parameters:\n {'model__max_depth': 3, 'model__min_samples_leaf': 1, 'model__min_samples_split': 2}\n\n/shared-libs/python3.7/py/lib/python3.7/site-packages/sklearn/model_selection/_validation.py:372: FitFailedWarning: \n90 fits failed out of a total of 270.\nThe score on these train-test partitions for these parameters will be set to nan.\nIf these failures are not expected, you can try to debug them by setting error_score='raise'.\n\nBelow are more details about the failures:\n--------------------------------------------------------------------------------\n90 fits failed with the following error:\nTraceback (most recent call last):\n  File \"/shared-libs/python3.7/py/lib/python3.7/site-packages/sklearn/model_selection/_validation.py\", line 680, in _fit_and_score\n    estimator.fit(X_train, y_train, **fit_params)\n  File \"/shared-libs/python3.7/py/lib/python3.7/site-packages/sklearn/pipeline.py\", line 394, in fit\n    self._final_estimator.fit(Xt, y, **fit_params_last_step)\n  File \"/shared-libs/python3.7/py/lib/python3.7/site-packages/sklearn/tree/_classes.py\", line 1320, in fit\n    X_idx_sorted=X_idx_sorted,\n  File \"/shared-libs/python3.7/py/lib/python3.7/site-packages/sklearn/tree/_classes.py\", line 254, in fit\n    % self.min_samples_split\nValueError: min_samples_split must be an integer greater than 1 or a float in (0.0, 1.0]; got the integer 1\n\n  warnings.warn(some_fits_failed_message, FitFailedWarning)\n/shared-libs/python3.7/py/lib/python3.7/site-packages/sklearn/model_selection/_search.py:972: UserWarning: One or more of the test scores are non-finite: [       nan 0.53422928 0.53422928        nan 0.53422928 0.53422928\n        nan 0.53422928 0.53422928        nan 0.65947932 0.65947932\n        nan 0.65947932 0.65947932        nan 0.65947932 0.65947932\n        nan 0.7493762  0.7493762         nan 0.7493762  0.7493762\n        nan 0.7493762  0.7493762 ]\n  category=UserWarning,\nColumna: LongitudZancada\nBest CV score: 0.749\nTest score: 0.811\nBest Parameters:\n {'model__max_depth': 3, 'model__min_samples_leaf': 1, 'model__min_samples_split': 2}\n\n/shared-libs/python3.7/py/lib/python3.7/site-packages/sklearn/model_selection/_validation.py:372: FitFailedWarning: \n90 fits failed out of a total of 270.\nThe score on these train-test partitions for these parameters will be set to nan.\nIf these failures are not expected, you can try to debug them by setting error_score='raise'.\n\nBelow are more details about the failures:\n--------------------------------------------------------------------------------\n90 fits failed with the following error:\nTraceback (most recent call last):\n  File \"/shared-libs/python3.7/py/lib/python3.7/site-packages/sklearn/model_selection/_validation.py\", line 680, in _fit_and_score\n    estimator.fit(X_train, y_train, **fit_params)\n  File \"/shared-libs/python3.7/py/lib/python3.7/site-packages/sklearn/pipeline.py\", line 394, in fit\n    self._final_estimator.fit(Xt, y, **fit_params_last_step)\n  File \"/shared-libs/python3.7/py/lib/python3.7/site-packages/sklearn/tree/_classes.py\", line 1320, in fit\n    X_idx_sorted=X_idx_sorted,\n  File \"/shared-libs/python3.7/py/lib/python3.7/site-packages/sklearn/tree/_classes.py\", line 254, in fit\n    % self.min_samples_split\nValueError: min_samples_split must be an integer greater than 1 or a float in (0.0, 1.0]; got the integer 1\n\n  warnings.warn(some_fits_failed_message, FitFailedWarning)\n/shared-libs/python3.7/py/lib/python3.7/site-packages/sklearn/model_selection/_search.py:972: UserWarning: One or more of the test scores are non-finite: [       nan 0.20586898 0.20586898        nan 0.20586898 0.20586898\n        nan 0.20586898 0.20586898        nan 0.29872093 0.29872093\n        nan 0.29872093 0.29872093        nan 0.29872093 0.29872093\n        nan 0.42370757 0.42370757        nan 0.42370757 0.42370757\n        nan 0.42370757 0.42370757]\n  category=UserWarning,\nColumna: Cadencia\nBest CV score: 0.424\nTest score: 0.521\nBest Parameters:\n {'model__max_depth': 3, 'model__min_samples_leaf': 1, 'model__min_samples_split': 2}\n\n/shared-libs/python3.7/py/lib/python3.7/site-packages/sklearn/model_selection/_validation.py:372: FitFailedWarning: \n90 fits failed out of a total of 270.\nThe score on these train-test partitions for these parameters will be set to nan.\nIf these failures are not expected, you can try to debug them by setting error_score='raise'.\n\nBelow are more details about the failures:\n--------------------------------------------------------------------------------\n90 fits failed with the following error:\nTraceback (most recent call last):\n  File \"/shared-libs/python3.7/py/lib/python3.7/site-packages/sklearn/model_selection/_validation.py\", line 680, in _fit_and_score\n    estimator.fit(X_train, y_train, **fit_params)\n  File \"/shared-libs/python3.7/py/lib/python3.7/site-packages/sklearn/pipeline.py\", line 394, in fit\n    self._final_estimator.fit(Xt, y, **fit_params_last_step)\n  File \"/shared-libs/python3.7/py/lib/python3.7/site-packages/sklearn/tree/_classes.py\", line 1320, in fit\n    X_idx_sorted=X_idx_sorted,\n  File \"/shared-libs/python3.7/py/lib/python3.7/site-packages/sklearn/tree/_classes.py\", line 254, in fit\n    % self.min_samples_split\nValueError: min_samples_split must be an integer greater than 1 or a float in (0.0, 1.0]; got the integer 1\n\n  warnings.warn(some_fits_failed_message, FitFailedWarning)\n/shared-libs/python3.7/py/lib/python3.7/site-packages/sklearn/model_selection/_search.py:972: UserWarning: One or more of the test scores are non-finite: [       nan 0.68930345 0.68930345        nan 0.68930345 0.68930345\n        nan 0.68930345 0.68930345        nan 0.81404191 0.81404191\n        nan 0.81404191 0.81404191        nan 0.81404191 0.81404191\n        nan 0.85258146 0.85258146        nan 0.85258146 0.85258146\n        nan 0.85335825 0.85335825]\n  category=UserWarning,\nColumna: Velocidad\nBest CV score: 0.853\nTest score: 0.871\nBest Parameters:\n {'model__max_depth': 3, 'model__min_samples_leaf': 3, 'model__min_samples_split': 2}\n\n/shared-libs/python3.7/py/lib/python3.7/site-packages/sklearn/model_selection/_validation.py:372: FitFailedWarning: \n90 fits failed out of a total of 270.\nThe score on these train-test partitions for these parameters will be set to nan.\nIf these failures are not expected, you can try to debug them by setting error_score='raise'.\n\nBelow are more details about the failures:\n--------------------------------------------------------------------------------\n90 fits failed with the following error:\nTraceback (most recent call last):\n  File \"/shared-libs/python3.7/py/lib/python3.7/site-packages/sklearn/model_selection/_validation.py\", line 680, in _fit_and_score\n    estimator.fit(X_train, y_train, **fit_params)\n  File \"/shared-libs/python3.7/py/lib/python3.7/site-packages/sklearn/pipeline.py\", line 394, in fit\n    self._final_estimator.fit(Xt, y, **fit_params_last_step)\n  File \"/shared-libs/python3.7/py/lib/python3.7/site-packages/sklearn/tree/_classes.py\", line 1320, in fit\n    X_idx_sorted=X_idx_sorted,\n  File \"/shared-libs/python3.7/py/lib/python3.7/site-packages/sklearn/tree/_classes.py\", line 254, in fit\n    % self.min_samples_split\nValueError: min_samples_split must be an integer greater than 1 or a float in (0.0, 1.0]; got the integer 1\n\n  warnings.warn(some_fits_failed_message, FitFailedWarning)\n/shared-libs/python3.7/py/lib/python3.7/site-packages/sklearn/model_selection/_search.py:972: UserWarning: One or more of the test scores are non-finite: [       nan 0.55346481 0.55346481        nan 0.55346481 0.55346481\n        nan 0.55346481 0.55346481        nan 0.64756914 0.64756914\n        nan 0.64756914 0.64756914        nan 0.64756914 0.64756914\n        nan 0.71709478 0.71709478        nan 0.71709478 0.71709478\n        nan 0.71709478 0.71709478]\n  category=UserWarning,\nColumna: LongitudZancada\nBest CV score: 0.717\nTest score: 0.740\nBest Parameters:\n {'model__max_depth': 3, 'model__min_samples_leaf': 1, 'model__min_samples_split': 2}\n\n/shared-libs/python3.7/py/lib/python3.7/site-packages/sklearn/model_selection/_validation.py:372: FitFailedWarning: \n90 fits failed out of a total of 270.\nThe score on these train-test partitions for these parameters will be set to nan.\nIf these failures are not expected, you can try to debug them by setting error_score='raise'.\n\nBelow are more details about the failures:\n--------------------------------------------------------------------------------\n90 fits failed with the following error:\nTraceback (most recent call last):\n  File \"/shared-libs/python3.7/py/lib/python3.7/site-packages/sklearn/model_selection/_validation.py\", line 680, in _fit_and_score\n    estimator.fit(X_train, y_train, **fit_params)\n  File \"/shared-libs/python3.7/py/lib/python3.7/site-packages/sklearn/pipeline.py\", line 394, in fit\n    self._final_estimator.fit(Xt, y, **fit_params_last_step)\n  File \"/shared-libs/python3.7/py/lib/python3.7/site-packages/sklearn/tree/_classes.py\", line 1320, in fit\n    X_idx_sorted=X_idx_sorted,\n  File \"/shared-libs/python3.7/py/lib/python3.7/site-packages/sklearn/tree/_classes.py\", line 254, in fit\n    % self.min_samples_split\nValueError: min_samples_split must be an integer greater than 1 or a float in (0.0, 1.0]; got the integer 1\n\n  warnings.warn(some_fits_failed_message, FitFailedWarning)\n/shared-libs/python3.7/py/lib/python3.7/site-packages/sklearn/model_selection/_search.py:972: UserWarning: One or more of the test scores are non-finite: [       nan 0.20310189 0.20310189        nan 0.20310189 0.20310189\n        nan 0.20310189 0.20310189        nan 0.34276201 0.34276201\n        nan 0.34276201 0.34276201        nan 0.34276201 0.34276201\n        nan 0.40680055 0.40680055        nan 0.40680055 0.40680055\n        nan 0.40663856 0.40663856]\n  category=UserWarning,\nColumna: Cadencia\nBest CV score: 0.407\nTest score: 0.348\nBest Parameters:\n {'model__max_depth': 3, 'model__min_samples_leaf': 1, 'model__min_samples_split': 2}\n\n/shared-libs/python3.7/py/lib/python3.7/site-packages/sklearn/model_selection/_validation.py:372: FitFailedWarning: \n90 fits failed out of a total of 270.\nThe score on these train-test partitions for these parameters will be set to nan.\nIf these failures are not expected, you can try to debug them by setting error_score='raise'.\n\nBelow are more details about the failures:\n--------------------------------------------------------------------------------\n90 fits failed with the following error:\nTraceback (most recent call last):\n  File \"/shared-libs/python3.7/py/lib/python3.7/site-packages/sklearn/model_selection/_validation.py\", line 680, in _fit_and_score\n    estimator.fit(X_train, y_train, **fit_params)\n  File \"/shared-libs/python3.7/py/lib/python3.7/site-packages/sklearn/pipeline.py\", line 394, in fit\n    self._final_estimator.fit(Xt, y, **fit_params_last_step)\n  File \"/shared-libs/python3.7/py/lib/python3.7/site-packages/sklearn/tree/_classes.py\", line 1320, in fit\n    X_idx_sorted=X_idx_sorted,\n  File \"/shared-libs/python3.7/py/lib/python3.7/site-packages/sklearn/tree/_classes.py\", line 254, in fit\n    % self.min_samples_split\nValueError: min_samples_split must be an integer greater than 1 or a float in (0.0, 1.0]; got the integer 1\n\n  warnings.warn(some_fits_failed_message, FitFailedWarning)\n/shared-libs/python3.7/py/lib/python3.7/site-packages/sklearn/model_selection/_search.py:972: UserWarning: One or more of the test scores are non-finite: [       nan 0.23262664 0.23262664        nan 0.23262664 0.23262664\n        nan 0.23262664 0.23262664        nan 0.39192729 0.39192729\n        nan 0.39192729 0.39192729        nan 0.39192729 0.39192729\n        nan 0.403769   0.403769          nan 0.403769   0.403769\n        nan 0.40841239 0.40841239]\n  category=UserWarning,\nColumna: Velocidad\nBest CV score: 0.408\nTest score: 0.428\nBest Parameters:\n {'model__max_depth': 3, 'model__min_samples_leaf': 3, 'model__min_samples_split': 2}\n\nColumna: LongitudZancada\nBest CV score: 0.276\nTest score: 0.296\nBest Parameters:\n {'model__max_depth': 3, 'model__min_samples_leaf': 1, 'model__min_samples_split': 2}\n\n--------------------------------------------------------------\nPROCESAMIENTO FINALIZADO EXITOSAMENTE!!!\n--------------------------------------------------------------\n--- 3.211771484216054 Minutos ---\n/shared-libs/python3.7/py/lib/python3.7/site-packages/sklearn/model_selection/_validation.py:372: FitFailedWarning: \n90 fits failed out of a total of 270.\nThe score on these train-test partitions for these parameters will be set to nan.\nIf these failures are not expected, you can try to debug them by setting error_score='raise'.\n\nBelow are more details about the failures:\n--------------------------------------------------------------------------------\n90 fits failed with the following error:\nTraceback (most recent call last):\n  File \"/shared-libs/python3.7/py/lib/python3.7/site-packages/sklearn/model_selection/_validation.py\", line 680, in _fit_and_score\n    estimator.fit(X_train, y_train, **fit_params)\n  File \"/shared-libs/python3.7/py/lib/python3.7/site-packages/sklearn/pipeline.py\", line 394, in fit\n    self._final_estimator.fit(Xt, y, **fit_params_last_step)\n  File \"/shared-libs/python3.7/py/lib/python3.7/site-packages/sklearn/tree/_classes.py\", line 1320, in fit\n    X_idx_sorted=X_idx_sorted,\n  File \"/shared-libs/python3.7/py/lib/python3.7/site-packages/sklearn/tree/_classes.py\", line 254, in fit\n    % self.min_samples_split\nValueError: min_samples_split must be an integer greater than 1 or a float in (0.0, 1.0]; got the integer 1\n\n  warnings.warn(some_fits_failed_message, FitFailedWarning)\n/shared-libs/python3.7/py/lib/python3.7/site-packages/sklearn/model_selection/_search.py:972: UserWarning: One or more of the test scores are non-finite: [       nan 0.06749463 0.06749463        nan 0.06749463 0.06749463\n        nan 0.06749463 0.06749463        nan 0.2180773  0.2180773\n        nan 0.2180773  0.2180773         nan 0.2180773  0.2180773\n        nan 0.2757816  0.2757816         nan 0.23697873 0.23697873\n        nan 0.21762333 0.21762333]\n  category=UserWarning,\n",
     "output_type": "stream"
    }
   ]
  },
  {
   "cell_type": "code",
   "metadata": {
    "cell_id": "c7e5c80f-bda6-4415-aef4-1c1a919144c2",
    "tags": [],
    "deepnote_to_be_reexecuted": false,
    "source_hash": "b4582e95",
    "execution_start": 1647014214306,
    "execution_millis": 56,
    "deepnote_table_state": {
     "pageSize": 100,
     "pageIndex": 1,
     "filters": [],
     "sortBy": []
    },
    "deepnote_table_loading": false,
    "deepnote_cell_type": "code",
    "deepnote_cell_height": 657.890625
   },
   "source": "DataDecisionTree = pd.DataFrame(DataDecisionTree)\nDataDecisionTree.head(200)",
   "execution_count": 9,
   "outputs": [
    {
     "output_type": "execute_result",
     "execution_count": 9,
     "data": {
      "application/vnd.deepnote.dataframe.v3+json": {
       "column_count": 5,
       "row_count": 111,
       "columns": [
        {
         "name": 0,
         "dtype": "object",
         "stats": {
          "unique_count": 37,
          "nan_count": 0,
          "categories": [
           {
            "name": "/work/GWALKVelAngularNoLineal.xlsx",
            "count": 3
           },
           {
            "name": "/work/GWALKEspacial.xlsx",
            "count": 3
           },
           {
            "name": "35 others",
            "count": 105
           }
          ]
         }
        },
        {
         "name": 1,
         "dtype": "object",
         "stats": {
          "unique_count": 3,
          "nan_count": 0,
          "categories": [
           {
            "name": "Cadencia",
            "count": 37
           },
           {
            "name": "Velocidad",
            "count": 37
           },
           {
            "name": "LongitudZancada",
            "count": 37
           }
          ]
         }
        },
        {
         "name": 2,
         "dtype": "float64",
         "stats": {
          "unique_count": 110,
          "nan_count": 0,
          "min": "0.11735958014135144",
          "max": "0.8790506863697992",
          "histogram": [
           {
            "bin_start": 0.11735958014135144,
            "bin_end": 0.1935286907641962,
            "count": 4
           },
           {
            "bin_start": 0.1935286907641962,
            "bin_end": 0.269697801387041,
            "count": 7
           },
           {
            "bin_start": 0.269697801387041,
            "bin_end": 0.3458669120098858,
            "count": 12
           },
           {
            "bin_start": 0.3458669120098858,
            "bin_end": 0.4220360226327306,
            "count": 15
           },
           {
            "bin_start": 0.4220360226327306,
            "bin_end": 0.4982051332555754,
            "count": 18
           },
           {
            "bin_start": 0.4982051332555754,
            "bin_end": 0.5743742438784202,
            "count": 16
           },
           {
            "bin_start": 0.5743742438784202,
            "bin_end": 0.6505433545012649,
            "count": 17
           },
           {
            "bin_start": 0.6505433545012649,
            "bin_end": 0.7267124651241097,
            "count": 12
           },
           {
            "bin_start": 0.7267124651241097,
            "bin_end": 0.8028815757469545,
            "count": 5
           },
           {
            "bin_start": 0.8028815757469545,
            "bin_end": 0.8790506863697992,
            "count": 5
           }
          ]
         }
        },
        {
         "name": 3,
         "dtype": "float64",
         "stats": {
          "unique_count": 109,
          "nan_count": 0,
          "min": "0.10670996431899071",
          "max": "0.9101188230053079",
          "histogram": [
           {
            "bin_start": 0.10670996431899071,
            "bin_end": 0.18705085018762244,
            "count": 3
           },
           {
            "bin_start": 0.18705085018762244,
            "bin_end": 0.26739173605625416,
            "count": 7
           },
           {
            "bin_start": 0.26739173605625416,
            "bin_end": 0.34773262192488585,
            "count": 6
           },
           {
            "bin_start": 0.34773262192488585,
            "bin_end": 0.4280735077935176,
            "count": 12
           },
           {
            "bin_start": 0.4280735077935176,
            "bin_end": 0.5084143936621494,
            "count": 19
           },
           {
            "bin_start": 0.5084143936621494,
            "bin_end": 0.5887552795307811,
            "count": 21
           },
           {
            "bin_start": 0.5887552795307811,
            "bin_end": 0.6690961653994127,
            "count": 17
           },
           {
            "bin_start": 0.6690961653994127,
            "bin_end": 0.7494370512680445,
            "count": 18
           },
           {
            "bin_start": 0.7494370512680445,
            "bin_end": 0.8297779371366762,
            "count": 3
           },
           {
            "bin_start": 0.8297779371366762,
            "bin_end": 0.9101188230053079,
            "count": 5
           }
          ]
         }
        },
        {
         "name": 4,
         "dtype": "object",
         "stats": {
          "unique_count": 111,
          "nan_count": 0,
          "categories": [
           {
            "name": "{'model__max_depth': 3, 'model__min_samples_leaf': 1, 'model__min_samples_split': 2}",
            "count": 62
           },
           {
            "name": "{'model__max_depth': 3, 'model__min_samples_leaf': 3, 'model__min_samples_split': 2}",
            "count": 29
           },
           {
            "name": "3 others",
            "count": 20
           }
          ]
         }
        },
        {
         "name": "_deepnote_index_column",
         "dtype": "int64"
        }
       ],
       "rows": [
        {
         "0": "/work/AWLAccLinealNoLineal.xlsx",
         "1": "Velocidad",
         "2": 0.4161777009243943,
         "3": 0.44303236930948287,
         "4": "{'model__max_depth': 3, 'model__min_samples_leaf': 1, 'model__min_samples_split': 2}",
         "_deepnote_index_column": 100
        },
        {
         "0": "/work/AWLAccLinealNoLineal.xlsx",
         "1": "LongitudZancada",
         "2": 0.3004753605527279,
         "3": 0.41907387708583255,
         "4": "{'model__max_depth': 3, 'model__min_samples_leaf': 3, 'model__min_samples_split': 2}",
         "_deepnote_index_column": 101
        },
        {
         "0": "/work/GWALK.xlsx",
         "1": "Cadencia",
         "2": 0.5954542338828162,
         "3": 0.5417415460992536,
         "4": "{'model__max_depth': 3, 'model__min_samples_leaf': 3, 'model__min_samples_split': 2}",
         "_deepnote_index_column": 102
        },
        {
         "0": "/work/GWALK.xlsx",
         "1": "Velocidad",
         "2": 0.8659416900846816,
         "3": 0.9101188230053079,
         "4": "{'model__max_depth': 3, 'model__min_samples_leaf': 1, 'model__min_samples_split': 2}",
         "_deepnote_index_column": 103
        },
        {
         "0": "/work/GWALK.xlsx",
         "1": "LongitudZancada",
         "2": 0.749376200878125,
         "3": 0.8114946354214658,
         "4": "{'model__max_depth': 3, 'model__min_samples_leaf': 1, 'model__min_samples_split': 2}",
         "_deepnote_index_column": 104
        },
        {
         "0": "/work/GWALKAccLinealNoLineal.xlsx",
         "1": "Cadencia",
         "2": 0.42370757362985545,
         "3": 0.5211438636914858,
         "4": "{'model__max_depth': 3, 'model__min_samples_leaf': 1, 'model__min_samples_split': 2}",
         "_deepnote_index_column": 105
        },
        {
         "0": "/work/GWALKAccLinealNoLineal.xlsx",
         "1": "Velocidad",
         "2": 0.853358252471217,
         "3": 0.8706773134468099,
         "4": "{'model__max_depth': 3, 'model__min_samples_leaf': 3, 'model__min_samples_split': 2}",
         "_deepnote_index_column": 106
        },
        {
         "0": "/work/GWALKAccLinealNoLineal.xlsx",
         "1": "LongitudZancada",
         "2": 0.7170947806474433,
         "3": 0.7400739749123308,
         "4": "{'model__max_depth': 3, 'model__min_samples_leaf': 1, 'model__min_samples_split': 2}",
         "_deepnote_index_column": 107
        },
        {
         "0": "/work/AWLNoLineal.xlsx",
         "1": "Cadencia",
         "2": 0.40680055344410604,
         "3": 0.3480813900949806,
         "4": "{'model__max_depth': 3, 'model__min_samples_leaf': 1, 'model__min_samples_split': 2}",
         "_deepnote_index_column": 108
        },
        {
         "0": "/work/AWLNoLineal.xlsx",
         "1": "Velocidad",
         "2": 0.4084123873401821,
         "3": 0.4277014741648353,
         "4": "{'model__max_depth': 3, 'model__min_samples_leaf': 3, 'model__min_samples_split': 2}",
         "_deepnote_index_column": 109
        },
        {
         "0": "/work/AWLNoLineal.xlsx",
         "1": "LongitudZancada",
         "2": 0.2757815999959806,
         "3": 0.2964578405980812,
         "4": "{'model__max_depth': 3, 'model__min_samples_leaf': 1, 'model__min_samples_split': 2}",
         "_deepnote_index_column": 110
        }
       ]
      },
      "text/plain": "                                      0                1         2         3  \\\n0    /work/GWALKVelAngularNoLineal.xlsx         Cadencia  0.277656  0.287439   \n1    /work/GWALKVelAngularNoLineal.xlsx        Velocidad  0.392976  0.409919   \n2    /work/GWALKVelAngularNoLineal.xlsx  LongitudZancada  0.395714  0.538943   \n3              /work/GWALKEspacial.xlsx         Cadencia  0.637433  0.536903   \n4              /work/GWALKEspacial.xlsx        Velocidad  0.879051  0.892841   \n..                                  ...              ...       ...       ...   \n106   /work/GWALKAccLinealNoLineal.xlsx        Velocidad  0.853358  0.870677   \n107   /work/GWALKAccLinealNoLineal.xlsx  LongitudZancada  0.717095  0.740074   \n108              /work/AWLNoLineal.xlsx         Cadencia  0.406801  0.348081   \n109              /work/AWLNoLineal.xlsx        Velocidad  0.408412  0.427701   \n110              /work/AWLNoLineal.xlsx  LongitudZancada  0.275782  0.296458   \n\n                                                     4  \n0    {'model__max_depth': 3, 'model__min_samples_le...  \n1    {'model__max_depth': 3, 'model__min_samples_le...  \n2    {'model__max_depth': 3, 'model__min_samples_le...  \n3    {'model__max_depth': 3, 'model__min_samples_le...  \n4    {'model__max_depth': 3, 'model__min_samples_le...  \n..                                                 ...  \n106  {'model__max_depth': 3, 'model__min_samples_le...  \n107  {'model__max_depth': 3, 'model__min_samples_le...  \n108  {'model__max_depth': 3, 'model__min_samples_le...  \n109  {'model__max_depth': 3, 'model__min_samples_le...  \n110  {'model__max_depth': 3, 'model__min_samples_le...  \n\n[111 rows x 5 columns]",
      "text/html": "<div>\n<style scoped>\n    .dataframe tbody tr th:only-of-type {\n        vertical-align: middle;\n    }\n\n    .dataframe tbody tr th {\n        vertical-align: top;\n    }\n\n    .dataframe thead th {\n        text-align: right;\n    }\n</style>\n<table border=\"1\" class=\"dataframe\">\n  <thead>\n    <tr style=\"text-align: right;\">\n      <th></th>\n      <th>0</th>\n      <th>1</th>\n      <th>2</th>\n      <th>3</th>\n      <th>4</th>\n    </tr>\n  </thead>\n  <tbody>\n    <tr>\n      <th>0</th>\n      <td>/work/GWALKVelAngularNoLineal.xlsx</td>\n      <td>Cadencia</td>\n      <td>0.277656</td>\n      <td>0.287439</td>\n      <td>{'model__max_depth': 3, 'model__min_samples_le...</td>\n    </tr>\n    <tr>\n      <th>1</th>\n      <td>/work/GWALKVelAngularNoLineal.xlsx</td>\n      <td>Velocidad</td>\n      <td>0.392976</td>\n      <td>0.409919</td>\n      <td>{'model__max_depth': 3, 'model__min_samples_le...</td>\n    </tr>\n    <tr>\n      <th>2</th>\n      <td>/work/GWALKVelAngularNoLineal.xlsx</td>\n      <td>LongitudZancada</td>\n      <td>0.395714</td>\n      <td>0.538943</td>\n      <td>{'model__max_depth': 3, 'model__min_samples_le...</td>\n    </tr>\n    <tr>\n      <th>3</th>\n      <td>/work/GWALKEspacial.xlsx</td>\n      <td>Cadencia</td>\n      <td>0.637433</td>\n      <td>0.536903</td>\n      <td>{'model__max_depth': 3, 'model__min_samples_le...</td>\n    </tr>\n    <tr>\n      <th>4</th>\n      <td>/work/GWALKEspacial.xlsx</td>\n      <td>Velocidad</td>\n      <td>0.879051</td>\n      <td>0.892841</td>\n      <td>{'model__max_depth': 3, 'model__min_samples_le...</td>\n    </tr>\n    <tr>\n      <th>...</th>\n      <td>...</td>\n      <td>...</td>\n      <td>...</td>\n      <td>...</td>\n      <td>...</td>\n    </tr>\n    <tr>\n      <th>106</th>\n      <td>/work/GWALKAccLinealNoLineal.xlsx</td>\n      <td>Velocidad</td>\n      <td>0.853358</td>\n      <td>0.870677</td>\n      <td>{'model__max_depth': 3, 'model__min_samples_le...</td>\n    </tr>\n    <tr>\n      <th>107</th>\n      <td>/work/GWALKAccLinealNoLineal.xlsx</td>\n      <td>LongitudZancada</td>\n      <td>0.717095</td>\n      <td>0.740074</td>\n      <td>{'model__max_depth': 3, 'model__min_samples_le...</td>\n    </tr>\n    <tr>\n      <th>108</th>\n      <td>/work/AWLNoLineal.xlsx</td>\n      <td>Cadencia</td>\n      <td>0.406801</td>\n      <td>0.348081</td>\n      <td>{'model__max_depth': 3, 'model__min_samples_le...</td>\n    </tr>\n    <tr>\n      <th>109</th>\n      <td>/work/AWLNoLineal.xlsx</td>\n      <td>Velocidad</td>\n      <td>0.408412</td>\n      <td>0.427701</td>\n      <td>{'model__max_depth': 3, 'model__min_samples_le...</td>\n    </tr>\n    <tr>\n      <th>110</th>\n      <td>/work/AWLNoLineal.xlsx</td>\n      <td>LongitudZancada</td>\n      <td>0.275782</td>\n      <td>0.296458</td>\n      <td>{'model__max_depth': 3, 'model__min_samples_le...</td>\n    </tr>\n  </tbody>\n</table>\n<p>111 rows × 5 columns</p>\n</div>"
     },
     "metadata": {}
    }
   ]
  },
  {
   "cell_type": "code",
   "metadata": {
    "cell_id": "b19c3cc5-7ef3-4432-b081-2fa6a76a42c0",
    "tags": [],
    "deepnote_to_be_reexecuted": false,
    "source_hash": "4399812f",
    "execution_start": 1647014214367,
    "execution_millis": 0,
    "deepnote_cell_type": "code",
    "deepnote_cell_height": 81.453125
   },
   "source": "DataDecisionTree.to_csv('DataDecisionTree.csv')",
   "execution_count": 10,
   "outputs": []
  },
  {
   "cell_type": "markdown",
   "source": "### Random Forest",
   "metadata": {
    "tags": [],
    "is_collapsed": false,
    "deepnote_app_coordinates": {
     "x": 0,
     "y": 432,
     "w": 12,
     "h": 5
    },
    "cell_id": "00031-a37c6dca-3fc7-4993-907a-f6437ab67ea6",
    "deepnote_cell_type": "text-cell-h3",
    "deepnote_cell_height": 62.453125
   }
  },
  {
   "cell_type": "code",
   "metadata": {
    "tags": [],
    "deepnote_to_be_reexecuted": false,
    "source_hash": "cbeb2161",
    "execution_start": 1647014214373,
    "execution_millis": 5,
    "deepnote_app_coordinates": {
     "x": 0,
     "y": 438,
     "w": 12,
     "h": 5
    },
    "cell_id": "00032-2b40c6d6-a9c1-45f8-aef4-7fc4a8bb0f5a",
    "deepnote_cell_type": "code",
    "deepnote_cell_height": 297.453125
   },
   "source": "#Se definen los hiperparametros a optimizar\n\n#param_gride = {\"model__max_depth\": [5,10,15,20],\"model__min_samples_split\": [5,10,15,20],\"model__min_samples_leaf\": [5,10,15,20],\"model__n_estimators\": [100]}\n#param_gride = {\"model__max_depth\": [5,10,20],\"model__min_samples_split\": [5,10,20],\"model__min_samples_leaf\": [5,10,20],\"model__n_estimators\": [100]}\nparam_gride = {\"model__max_depth\": [5,20],\"model__min_samples_split\": [5,10],\"model__min_samples_leaf\": [5,10],\"model__n_estimators\": [100]}\n#param_gride = {\"model__max_depth\": [5],\"model__min_samples_split\": [5],\"model__min_samples_leaf\": [5],\"model__n_estimators\": [100]}\n\n# param_gride = {\"model__max_depth\": [10,20,30,40,50,60,70,80,90,100],\n#               \"model__min_samples_split\": [2,4,6,8,10,12,14,16,18,20],\n#               \"model__min_samples_leaf\": [1,2,3,4,5,6,7,8,9,10],\n#               \"model__n_estimators\": [100,200,300,400,500,600,700,800,900,1000]\n\n                              ",
   "execution_count": 11,
   "outputs": []
  },
  {
   "cell_type": "code",
   "metadata": {
    "cell_id": "ff69d08c-5cf8-4adc-b7f5-4716beede4c7",
    "tags": [],
    "deepnote_to_be_reexecuted": false,
    "source_hash": "7d95037a",
    "execution_start": 1647014214428,
    "execution_millis": 4362209,
    "deepnote_cell_type": "code",
    "deepnote_cell_height": 1547.6875
   },
   "source": "import time\nstart_time = time.time()\n\nprint('-------------------INICIO PROCESAMIENTO-----------------')\n\nDataRandomForest = []\n\nfor f in all_files:\n    train_features = pd.read_excel(f)\n    # Train, test split.\n    data_split = train_test_split(train_features, targets, test_size=0.3, random_state=4444)\n    X_train, X_test, targets_train, targets_test = data_split\n\n    # Find the best model per target.\n    for target in range(targets.shape[1]):\n        # Getting the target.\n        y_train = targets_train.iloc[:, target]\n        y_test = targets_test.iloc[:, target]\n\n    # Model definition.\n        pipe = Pipeline([(\"minmax\", MinMaxScaler((-1, 1))),\n                      (\"model\", RandomForestRegressor(random_state=4444,n_jobs=-1))])\n    # By default GridSearchCV uses a 5-kfold validation strategy.\n        search = GridSearchCV(estimator=pipe, param_grid = param_gride, cv=10, n_jobs=-1)  \n        search.fit(X_train.values, y_train.values)\n\n    # Getting the test score.\n        y_hat_test = search.predict(X_test.values)\n        test_score = r2_score(y_test.values, y_hat_test)\n\n    # Printing stats.\n        print(f\"Columna: {targets.columns[target]}\")\n        print(f\"Best CV score: {search.best_score_:0.3f}\")\n        print(f\"Test score: {test_score:0.3f}\")\n        print(f\"Best Parameters:\\n {search.best_params_}\")\n        print(\"\")\n\n    #Save stats\n        DataRandomForest.append([f,targets.columns[target],search.best_score_,test_score,search.best_params_])\n\n\nprint('--------------------------------------------------------------')\nprint('PROCESAMIENTO FINALIZADO EXITOSAMENTE!!!')\nprint('--------------------------------------------------------------')\n\nTIEMPO = (time.time() - start_time)/60\n\nprint(\"--- %s Minutos ---\" % (TIEMPO))",
   "execution_count": 12,
   "outputs": [
    {
     "name": "stdout",
     "text": "-------------------INICIO PROCESAMIENTO-----------------\nColumna: Cadencia\nBest CV score: 0.576\nTest score: 0.649\nBest Parameters:\n {'model__max_depth': 20, 'model__min_samples_leaf': 5, 'model__min_samples_split': 10, 'model__n_estimators': 100}\n\nColumna: Velocidad\nBest CV score: 0.736\nTest score: 0.797\nBest Parameters:\n {'model__max_depth': 20, 'model__min_samples_leaf': 5, 'model__min_samples_split': 5, 'model__n_estimators': 100}\n\nColumna: LongitudZancada\nBest CV score: 0.733\nTest score: 0.811\nBest Parameters:\n {'model__max_depth': 20, 'model__min_samples_leaf': 5, 'model__min_samples_split': 5, 'model__n_estimators': 100}\n\nColumna: Cadencia\nBest CV score: 0.823\nTest score: 0.851\nBest Parameters:\n {'model__max_depth': 20, 'model__min_samples_leaf': 5, 'model__min_samples_split': 10, 'model__n_estimators': 100}\n\nColumna: Velocidad\nBest CV score: 0.953\nTest score: 0.959\nBest Parameters:\n {'model__max_depth': 20, 'model__min_samples_leaf': 5, 'model__min_samples_split': 5, 'model__n_estimators': 100}\n\nColumna: LongitudZancada\nBest CV score: 0.926\nTest score: 0.957\nBest Parameters:\n {'model__max_depth': 20, 'model__min_samples_leaf': 5, 'model__min_samples_split': 5, 'model__n_estimators': 100}\n\nColumna: Cadencia\nBest CV score: 0.844\nTest score: 0.815\nBest Parameters:\n {'model__max_depth': 20, 'model__min_samples_leaf': 5, 'model__min_samples_split': 5, 'model__n_estimators': 100}\n\nColumna: Velocidad\nBest CV score: 0.852\nTest score: 0.868\nBest Parameters:\n {'model__max_depth': 20, 'model__min_samples_leaf': 5, 'model__min_samples_split': 10, 'model__n_estimators': 100}\n\nColumna: LongitudZancada\nBest CV score: 0.775\nTest score: 0.846\nBest Parameters:\n {'model__max_depth': 20, 'model__min_samples_leaf': 5, 'model__min_samples_split': 5, 'model__n_estimators': 100}\n\nColumna: Cadencia\nBest CV score: 0.844\nTest score: 0.883\nBest Parameters:\n {'model__max_depth': 20, 'model__min_samples_leaf': 5, 'model__min_samples_split': 5, 'model__n_estimators': 100}\n\nColumna: Velocidad\nBest CV score: 0.866\nTest score: 0.856\nBest Parameters:\n {'model__max_depth': 20, 'model__min_samples_leaf': 5, 'model__min_samples_split': 5, 'model__n_estimators': 100}\n\nColumna: LongitudZancada\nBest CV score: 0.833\nTest score: 0.851\nBest Parameters:\n {'model__max_depth': 20, 'model__min_samples_leaf': 5, 'model__min_samples_split': 5, 'model__n_estimators': 100}\n\nColumna: Cadencia\nBest CV score: 0.887\nTest score: 0.859\nBest Parameters:\n {'model__max_depth': 20, 'model__min_samples_leaf': 5, 'model__min_samples_split': 5, 'model__n_estimators': 100}\n\nColumna: Velocidad\nBest CV score: 0.837\nTest score: 0.872\nBest Parameters:\n {'model__max_depth': 20, 'model__min_samples_leaf': 5, 'model__min_samples_split': 5, 'model__n_estimators': 100}\n\nColumna: LongitudZancada\nBest CV score: 0.841\nTest score: 0.925\nBest Parameters:\n {'model__max_depth': 20, 'model__min_samples_leaf': 5, 'model__min_samples_split': 5, 'model__n_estimators': 100}\n\nColumna: Cadencia\nBest CV score: 0.855\nTest score: 0.849\nBest Parameters:\n {'model__max_depth': 20, 'model__min_samples_leaf': 5, 'model__min_samples_split': 10, 'model__n_estimators': 100}\n\nColumna: Velocidad\nBest CV score: 0.870\nTest score: 0.894\nBest Parameters:\n {'model__max_depth': 20, 'model__min_samples_leaf': 5, 'model__min_samples_split': 5, 'model__n_estimators': 100}\n\nColumna: LongitudZancada\nBest CV score: 0.795\nTest score: 0.868\nBest Parameters:\n {'model__max_depth': 20, 'model__min_samples_leaf': 5, 'model__min_samples_split': 10, 'model__n_estimators': 100}\n\nColumna: Cadencia\nBest CV score: 0.758\nTest score: 0.817\nBest Parameters:\n {'model__max_depth': 20, 'model__min_samples_leaf': 5, 'model__min_samples_split': 10, 'model__n_estimators': 100}\n\nColumna: Velocidad\nBest CV score: 0.795\nTest score: 0.832\nBest Parameters:\n {'model__max_depth': 20, 'model__min_samples_leaf': 5, 'model__min_samples_split': 5, 'model__n_estimators': 100}\n\nColumna: LongitudZancada\nBest CV score: 0.802\nTest score: 0.850\nBest Parameters:\n {'model__max_depth': 20, 'model__min_samples_leaf': 5, 'model__min_samples_split': 5, 'model__n_estimators': 100}\n\nColumna: Cadencia\nBest CV score: 0.765\nTest score: 0.842\nBest Parameters:\n {'model__max_depth': 20, 'model__min_samples_leaf': 5, 'model__min_samples_split': 5, 'model__n_estimators': 100}\n\nColumna: Velocidad\nBest CV score: 0.932\nTest score: 0.947\nBest Parameters:\n {'model__max_depth': 20, 'model__min_samples_leaf': 5, 'model__min_samples_split': 5, 'model__n_estimators': 100}\n\nColumna: LongitudZancada\nBest CV score: 0.879\nTest score: 0.912\nBest Parameters:\n {'model__max_depth': 20, 'model__min_samples_leaf': 5, 'model__min_samples_split': 5, 'model__n_estimators': 100}\n\nColumna: Cadencia\nBest CV score: 0.857\nTest score: 0.900\nBest Parameters:\n {'model__max_depth': 20, 'model__min_samples_leaf': 5, 'model__min_samples_split': 5, 'model__n_estimators': 100}\n\nColumna: Velocidad\nBest CV score: 0.885\nTest score: 0.865\nBest Parameters:\n {'model__max_depth': 20, 'model__min_samples_leaf': 5, 'model__min_samples_split': 10, 'model__n_estimators': 100}\n\nColumna: LongitudZancada\nBest CV score: 0.875\nTest score: 0.886\nBest Parameters:\n {'model__max_depth': 20, 'model__min_samples_leaf': 5, 'model__min_samples_split': 5, 'model__n_estimators': 100}\n\nColumna: Cadencia\nBest CV score: 0.885\nTest score: 0.863\nBest Parameters:\n {'model__max_depth': 20, 'model__min_samples_leaf': 5, 'model__min_samples_split': 5, 'model__n_estimators': 100}\n\nColumna: Velocidad\nBest CV score: 0.862\nTest score: 0.886\nBest Parameters:\n {'model__max_depth': 20, 'model__min_samples_leaf': 5, 'model__min_samples_split': 5, 'model__n_estimators': 100}\n\nColumna: LongitudZancada\nBest CV score: 0.831\nTest score: 0.896\nBest Parameters:\n {'model__max_depth': 20, 'model__min_samples_leaf': 5, 'model__min_samples_split': 5, 'model__n_estimators': 100}\n\nColumna: Cadencia\nBest CV score: 0.677\nTest score: 0.672\nBest Parameters:\n {'model__max_depth': 20, 'model__min_samples_leaf': 5, 'model__min_samples_split': 5, 'model__n_estimators': 100}\n\nColumna: Velocidad\nBest CV score: 0.696\nTest score: 0.731\nBest Parameters:\n {'model__max_depth': 20, 'model__min_samples_leaf': 5, 'model__min_samples_split': 5, 'model__n_estimators': 100}\n\nColumna: LongitudZancada\nBest CV score: 0.606\nTest score: 0.714\nBest Parameters:\n {'model__max_depth': 20, 'model__min_samples_leaf': 5, 'model__min_samples_split': 5, 'model__n_estimators': 100}\n\nColumna: Cadencia\nBest CV score: 0.679\nTest score: 0.745\nBest Parameters:\n {'model__max_depth': 20, 'model__min_samples_leaf': 5, 'model__min_samples_split': 5, 'model__n_estimators': 100}\n\nColumna: Velocidad\nBest CV score: 0.715\nTest score: 0.757\nBest Parameters:\n {'model__max_depth': 20, 'model__min_samples_leaf': 5, 'model__min_samples_split': 5, 'model__n_estimators': 100}\n\nColumna: LongitudZancada\nBest CV score: 0.628\nTest score: 0.707\nBest Parameters:\n {'model__max_depth': 20, 'model__min_samples_leaf': 5, 'model__min_samples_split': 5, 'model__n_estimators': 100}\n\nColumna: Cadencia\nBest CV score: 0.550\nTest score: 0.487\nBest Parameters:\n {'model__max_depth': 20, 'model__min_samples_leaf': 5, 'model__min_samples_split': 5, 'model__n_estimators': 100}\n\nColumna: Velocidad\nBest CV score: 0.511\nTest score: 0.563\nBest Parameters:\n {'model__max_depth': 20, 'model__min_samples_leaf': 5, 'model__min_samples_split': 5, 'model__n_estimators': 100}\n\nColumna: LongitudZancada\nBest CV score: 0.435\nTest score: 0.473\nBest Parameters:\n {'model__max_depth': 20, 'model__min_samples_leaf': 5, 'model__min_samples_split': 5, 'model__n_estimators': 100}\n\nColumna: Cadencia\nBest CV score: 0.844\nTest score: 0.887\nBest Parameters:\n {'model__max_depth': 20, 'model__min_samples_leaf': 5, 'model__min_samples_split': 10, 'model__n_estimators': 100}\n\nColumna: Velocidad\nBest CV score: 0.869\nTest score: 0.839\nBest Parameters:\n {'model__max_depth': 20, 'model__min_samples_leaf': 5, 'model__min_samples_split': 5, 'model__n_estimators': 100}\n\nColumna: LongitudZancada\nBest CV score: 0.827\nTest score: 0.863\nBest Parameters:\n {'model__max_depth': 20, 'model__min_samples_leaf': 5, 'model__min_samples_split': 10, 'model__n_estimators': 100}\n\nColumna: Cadencia\nBest CV score: 0.856\nTest score: 0.827\nBest Parameters:\n {'model__max_depth': 20, 'model__min_samples_leaf': 5, 'model__min_samples_split': 5, 'model__n_estimators': 100}\n\nColumna: Velocidad\nBest CV score: 0.849\nTest score: 0.877\nBest Parameters:\n {'model__max_depth': 20, 'model__min_samples_leaf': 5, 'model__min_samples_split': 5, 'model__n_estimators': 100}\n\nColumna: LongitudZancada\nBest CV score: 0.747\nTest score: 0.884\nBest Parameters:\n {'model__max_depth': 20, 'model__min_samples_leaf': 5, 'model__min_samples_split': 5, 'model__n_estimators': 100}\n\nColumna: Cadencia\nBest CV score: 0.848\nTest score: 0.877\nBest Parameters:\n {'model__max_depth': 20, 'model__min_samples_leaf': 5, 'model__min_samples_split': 5, 'model__n_estimators': 100}\n\nColumna: Velocidad\nBest CV score: 0.868\nTest score: 0.876\nBest Parameters:\n {'model__max_depth': 20, 'model__min_samples_leaf': 5, 'model__min_samples_split': 5, 'model__n_estimators': 100}\n\nColumna: LongitudZancada\nBest CV score: 0.839\nTest score: 0.875\nBest Parameters:\n {'model__max_depth': 20, 'model__min_samples_leaf': 5, 'model__min_samples_split': 5, 'model__n_estimators': 100}\n\nColumna: Cadencia\nBest CV score: 0.868\nTest score: 0.888\nBest Parameters:\n {'model__max_depth': 20, 'model__min_samples_leaf': 5, 'model__min_samples_split': 10, 'model__n_estimators': 100}\n\nColumna: Velocidad\nBest CV score: 0.806\nTest score: 0.838\nBest Parameters:\n {'model__max_depth': 20, 'model__min_samples_leaf': 5, 'model__min_samples_split': 5, 'model__n_estimators': 100}\n\nColumna: LongitudZancada\nBest CV score: 0.783\nTest score: 0.874\nBest Parameters:\n {'model__max_depth': 20, 'model__min_samples_leaf': 5, 'model__min_samples_split': 5, 'model__n_estimators': 100}\n\nColumna: Cadencia\nBest CV score: 0.769\nTest score: 0.800\nBest Parameters:\n {'model__max_depth': 20, 'model__min_samples_leaf': 5, 'model__min_samples_split': 5, 'model__n_estimators': 100}\n\nColumna: Velocidad\nBest CV score: 0.812\nTest score: 0.810\nBest Parameters:\n {'model__max_depth': 20, 'model__min_samples_leaf': 5, 'model__min_samples_split': 5, 'model__n_estimators': 100}\n\nColumna: LongitudZancada\nBest CV score: 0.728\nTest score: 0.767\nBest Parameters:\n {'model__max_depth': 20, 'model__min_samples_leaf': 5, 'model__min_samples_split': 5, 'model__n_estimators': 100}\n\nColumna: Cadencia\nBest CV score: 0.760\nTest score: 0.762\nBest Parameters:\n {'model__max_depth': 20, 'model__min_samples_leaf': 5, 'model__min_samples_split': 5, 'model__n_estimators': 100}\n\nColumna: Velocidad\nBest CV score: 0.792\nTest score: 0.785\nBest Parameters:\n {'model__max_depth': 20, 'model__min_samples_leaf': 5, 'model__min_samples_split': 5, 'model__n_estimators': 100}\n\nColumna: LongitudZancada\nBest CV score: 0.769\nTest score: 0.792\nBest Parameters:\n {'model__max_depth': 20, 'model__min_samples_leaf': 5, 'model__min_samples_split': 5, 'model__n_estimators': 100}\n\nColumna: Cadencia\nBest CV score: 0.896\nTest score: 0.880\nBest Parameters:\n {'model__max_depth': 20, 'model__min_samples_leaf': 5, 'model__min_samples_split': 5, 'model__n_estimators': 100}\n\nColumna: Velocidad\nBest CV score: 0.862\nTest score: 0.873\nBest Parameters:\n {'model__max_depth': 20, 'model__min_samples_leaf': 5, 'model__min_samples_split': 5, 'model__n_estimators': 100}\n\nColumna: LongitudZancada\nBest CV score: 0.861\nTest score: 0.921\nBest Parameters:\n {'model__max_depth': 20, 'model__min_samples_leaf': 5, 'model__min_samples_split': 10, 'model__n_estimators': 100}\n\nColumna: Cadencia\nBest CV score: 0.765\nTest score: 0.760\nBest Parameters:\n {'model__max_depth': 20, 'model__min_samples_leaf': 5, 'model__min_samples_split': 5, 'model__n_estimators': 100}\n\nColumna: Velocidad\nBest CV score: 0.793\nTest score: 0.759\nBest Parameters:\n {'model__max_depth': 20, 'model__min_samples_leaf': 5, 'model__min_samples_split': 5, 'model__n_estimators': 100}\n\nColumna: LongitudZancada\nBest CV score: 0.705\nTest score: 0.714\nBest Parameters:\n {'model__max_depth': 20, 'model__min_samples_leaf': 5, 'model__min_samples_split': 5, 'model__n_estimators': 100}\n\nColumna: Cadencia\nBest CV score: 0.719\nTest score: 0.750\nBest Parameters:\n {'model__max_depth': 20, 'model__min_samples_leaf': 5, 'model__min_samples_split': 10, 'model__n_estimators': 100}\n\nColumna: Velocidad\nBest CV score: 0.701\nTest score: 0.709\nBest Parameters:\n {'model__max_depth': 20, 'model__min_samples_leaf': 5, 'model__min_samples_split': 5, 'model__n_estimators': 100}\n\nColumna: LongitudZancada\nBest CV score: 0.646\nTest score: 0.666\nBest Parameters:\n {'model__max_depth': 20, 'model__min_samples_leaf': 5, 'model__min_samples_split': 5, 'model__n_estimators': 100}\n\nColumna: Cadencia\nBest CV score: 0.870\nTest score: 0.893\nBest Parameters:\n {'model__max_depth': 20, 'model__min_samples_leaf': 5, 'model__min_samples_split': 5, 'model__n_estimators': 100}\n\nColumna: Velocidad\nBest CV score: 0.805\nTest score: 0.833\nBest Parameters:\n {'model__max_depth': 20, 'model__min_samples_leaf': 5, 'model__min_samples_split': 5, 'model__n_estimators': 100}\n\nColumna: LongitudZancada\nBest CV score: 0.824\nTest score: 0.889\nBest Parameters:\n {'model__max_depth': 20, 'model__min_samples_leaf': 5, 'model__min_samples_split': 5, 'model__n_estimators': 100}\n\nColumna: Cadencia\nBest CV score: 0.803\nTest score: 0.816\nBest Parameters:\n {'model__max_depth': 20, 'model__min_samples_leaf': 5, 'model__min_samples_split': 5, 'model__n_estimators': 100}\n\nColumna: Velocidad\nBest CV score: 0.950\nTest score: 0.958\nBest Parameters:\n {'model__max_depth': 20, 'model__min_samples_leaf': 5, 'model__min_samples_split': 5, 'model__n_estimators': 100}\n\nColumna: LongitudZancada\nBest CV score: 0.913\nTest score: 0.939\nBest Parameters:\n {'model__max_depth': 20, 'model__min_samples_leaf': 5, 'model__min_samples_split': 5, 'model__n_estimators': 100}\n\nColumna: Cadencia\nBest CV score: 0.811\nTest score: 0.813\nBest Parameters:\n {'model__max_depth': 20, 'model__min_samples_leaf': 5, 'model__min_samples_split': 5, 'model__n_estimators': 100}\n\nColumna: Velocidad\nBest CV score: 0.806\nTest score: 0.832\nBest Parameters:\n {'model__max_depth': 20, 'model__min_samples_leaf': 5, 'model__min_samples_split': 5, 'model__n_estimators': 100}\n\nColumna: LongitudZancada\nBest CV score: 0.817\nTest score: 0.906\nBest Parameters:\n {'model__max_depth': 20, 'model__min_samples_leaf': 5, 'model__min_samples_split': 5, 'model__n_estimators': 100}\n\nColumna: Cadencia\nBest CV score: 0.591\nTest score: 0.602\nBest Parameters:\n {'model__max_depth': 20, 'model__min_samples_leaf': 5, 'model__min_samples_split': 5, 'model__n_estimators': 100}\n\nColumna: Velocidad\nBest CV score: 0.577\nTest score: 0.620\nBest Parameters:\n {'model__max_depth': 20, 'model__min_samples_leaf': 5, 'model__min_samples_split': 5, 'model__n_estimators': 100}\n\nColumna: LongitudZancada\nBest CV score: 0.484\nTest score: 0.522\nBest Parameters:\n {'model__max_depth': 20, 'model__min_samples_leaf': 5, 'model__min_samples_split': 5, 'model__n_estimators': 100}\n\nColumna: Cadencia\nBest CV score: 0.813\nTest score: 0.888\nBest Parameters:\n {'model__max_depth': 20, 'model__min_samples_leaf': 5, 'model__min_samples_split': 5, 'model__n_estimators': 100}\n\nColumna: Velocidad\nBest CV score: 0.849\nTest score: 0.867\nBest Parameters:\n {'model__max_depth': 20, 'model__min_samples_leaf': 5, 'model__min_samples_split': 5, 'model__n_estimators': 100}\n\nColumna: LongitudZancada\nBest CV score: 0.813\nTest score: 0.869\nBest Parameters:\n {'model__max_depth': 20, 'model__min_samples_leaf': 5, 'model__min_samples_split': 5, 'model__n_estimators': 100}\n\nColumna: Cadencia\nBest CV score: 0.715\nTest score: 0.765\nBest Parameters:\n {'model__max_depth': 20, 'model__min_samples_leaf': 5, 'model__min_samples_split': 5, 'model__n_estimators': 100}\n\nColumna: Velocidad\nBest CV score: 0.731\nTest score: 0.787\nBest Parameters:\n {'model__max_depth': 20, 'model__min_samples_leaf': 5, 'model__min_samples_split': 5, 'model__n_estimators': 100}\n\nColumna: LongitudZancada\nBest CV score: 0.653\nTest score: 0.735\nBest Parameters:\n {'model__max_depth': 20, 'model__min_samples_leaf': 5, 'model__min_samples_split': 5, 'model__n_estimators': 100}\n\nColumna: Cadencia\nBest CV score: 0.517\nTest score: 0.503\nBest Parameters:\n {'model__max_depth': 20, 'model__min_samples_leaf': 5, 'model__min_samples_split': 5, 'model__n_estimators': 100}\n\nColumna: Velocidad\nBest CV score: 0.485\nTest score: 0.524\nBest Parameters:\n {'model__max_depth': 20, 'model__min_samples_leaf': 5, 'model__min_samples_split': 10, 'model__n_estimators': 100}\n\nColumna: LongitudZancada\nBest CV score: 0.384\nTest score: 0.431\nBest Parameters:\n {'model__max_depth': 20, 'model__min_samples_leaf': 5, 'model__min_samples_split': 5, 'model__n_estimators': 100}\n\nColumna: Cadencia\nBest CV score: 0.622\nTest score: 0.668\nBest Parameters:\n {'model__max_depth': 20, 'model__min_samples_leaf': 5, 'model__min_samples_split': 5, 'model__n_estimators': 100}\n\nColumna: Velocidad\nBest CV score: 0.628\nTest score: 0.651\nBest Parameters:\n {'model__max_depth': 20, 'model__min_samples_leaf': 5, 'model__min_samples_split': 5, 'model__n_estimators': 100}\n\nColumna: LongitudZancada\nBest CV score: 0.543\nTest score: 0.631\nBest Parameters:\n {'model__max_depth': 20, 'model__min_samples_leaf': 5, 'model__min_samples_split': 5, 'model__n_estimators': 100}\n\nColumna: Cadencia\nBest CV score: 0.704\nTest score: 0.749\nBest Parameters:\n {'model__max_depth': 20, 'model__min_samples_leaf': 5, 'model__min_samples_split': 5, 'model__n_estimators': 100}\n\nColumna: Velocidad\nBest CV score: 0.737\nTest score: 0.718\nBest Parameters:\n {'model__max_depth': 20, 'model__min_samples_leaf': 5, 'model__min_samples_split': 5, 'model__n_estimators': 100}\n\nColumna: LongitudZancada\nBest CV score: 0.743\nTest score: 0.735\nBest Parameters:\n {'model__max_depth': 20, 'model__min_samples_leaf': 5, 'model__min_samples_split': 5, 'model__n_estimators': 100}\n\nColumna: Cadencia\nBest CV score: 0.693\nTest score: 0.709\nBest Parameters:\n {'model__max_depth': 20, 'model__min_samples_leaf': 5, 'model__min_samples_split': 5, 'model__n_estimators': 100}\n\nColumna: Velocidad\nBest CV score: 0.764\nTest score: 0.724\nBest Parameters:\n {'model__max_depth': 20, 'model__min_samples_leaf': 5, 'model__min_samples_split': 5, 'model__n_estimators': 100}\n\nColumna: LongitudZancada\nBest CV score: 0.642\nTest score: 0.604\nBest Parameters:\n {'model__max_depth': 20, 'model__min_samples_leaf': 5, 'model__min_samples_split': 5, 'model__n_estimators': 100}\n\nColumna: Cadencia\nBest CV score: 0.839\nTest score: 0.903\nBest Parameters:\n {'model__max_depth': 20, 'model__min_samples_leaf': 5, 'model__min_samples_split': 5, 'model__n_estimators': 100}\n\nColumna: Velocidad\nBest CV score: 0.892\nTest score: 0.891\nBest Parameters:\n {'model__max_depth': 20, 'model__min_samples_leaf': 5, 'model__min_samples_split': 5, 'model__n_estimators': 100}\n\nColumna: LongitudZancada\nBest CV score: 0.873\nTest score: 0.896\nBest Parameters:\n {'model__max_depth': 20, 'model__min_samples_leaf': 5, 'model__min_samples_split': 5, 'model__n_estimators': 100}\n\nColumna: Cadencia\nBest CV score: 0.638\nTest score: 0.620\nBest Parameters:\n {'model__max_depth': 20, 'model__min_samples_leaf': 5, 'model__min_samples_split': 10, 'model__n_estimators': 100}\n\nColumna: Velocidad\nBest CV score: 0.630\nTest score: 0.698\nBest Parameters:\n {'model__max_depth': 20, 'model__min_samples_leaf': 5, 'model__min_samples_split': 5, 'model__n_estimators': 100}\n\nColumna: LongitudZancada\nBest CV score: 0.546\nTest score: 0.632\nBest Parameters:\n {'model__max_depth': 20, 'model__min_samples_leaf': 5, 'model__min_samples_split': 5, 'model__n_estimators': 100}\n\nColumna: Cadencia\nBest CV score: 0.816\nTest score: 0.838\nBest Parameters:\n {'model__max_depth': 20, 'model__min_samples_leaf': 5, 'model__min_samples_split': 5, 'model__n_estimators': 100}\n\nColumna: Velocidad\nBest CV score: 0.954\nTest score: 0.966\nBest Parameters:\n {'model__max_depth': 20, 'model__min_samples_leaf': 5, 'model__min_samples_split': 5, 'model__n_estimators': 100}\n\nColumna: LongitudZancada\nBest CV score: 0.922\nTest score: 0.956\nBest Parameters:\n {'model__max_depth': 20, 'model__min_samples_leaf': 5, 'model__min_samples_split': 5, 'model__n_estimators': 100}\n\nColumna: Cadencia\nBest CV score: 0.686\nTest score: 0.781\nBest Parameters:\n {'model__max_depth': 20, 'model__min_samples_leaf': 5, 'model__min_samples_split': 5, 'model__n_estimators': 100}\n\nColumna: Velocidad\nBest CV score: 0.922\nTest score: 0.938\nBest Parameters:\n {'model__max_depth': 20, 'model__min_samples_leaf': 5, 'model__min_samples_split': 5, 'model__n_estimators': 100}\n\nColumna: LongitudZancada\nBest CV score: 0.838\nTest score: 0.884\nBest Parameters:\n {'model__max_depth': 20, 'model__min_samples_leaf': 5, 'model__min_samples_split': 5, 'model__n_estimators': 100}\n\nColumna: Cadencia\nBest CV score: 0.682\nTest score: 0.695\nBest Parameters:\n {'model__max_depth': 20, 'model__min_samples_leaf': 5, 'model__min_samples_split': 5, 'model__n_estimators': 100}\n\nColumna: Velocidad\nBest CV score: 0.662\nTest score: 0.702\nBest Parameters:\n {'model__max_depth': 20, 'model__min_samples_leaf': 5, 'model__min_samples_split': 5, 'model__n_estimators': 100}\n\nColumna: LongitudZancada\nBest CV score: 0.557\nTest score: 0.632\nBest Parameters:\n {'model__max_depth': 20, 'model__min_samples_leaf': 5, 'model__min_samples_split': 5, 'model__n_estimators': 100}\n\n--------------------------------------------------------------\nPROCESAMIENTO FINALIZADO EXITOSAMENTE!!!\n--------------------------------------------------------------\n--- 72.70410666068395 Minutos ---\n",
     "output_type": "stream"
    }
   ]
  },
  {
   "cell_type": "code",
   "metadata": {
    "cell_id": "83c115ea-d5dc-4696-b622-a573da16658d",
    "tags": [],
    "deepnote_to_be_reexecuted": false,
    "source_hash": "c9e9781b",
    "execution_start": 1647018576673,
    "execution_millis": 10,
    "deepnote_cell_type": "code",
    "deepnote_cell_height": 616.890625
   },
   "source": "DataRandomForest = pd.DataFrame(DataRandomForest)\nDataRandomForest.head(10)",
   "execution_count": 13,
   "outputs": [
    {
     "output_type": "execute_result",
     "execution_count": 13,
     "data": {
      "application/vnd.deepnote.dataframe.v3+json": {
       "column_count": 5,
       "row_count": 10,
       "columns": [
        {
         "name": 0,
         "dtype": "object",
         "stats": {
          "unique_count": 4,
          "nan_count": 0,
          "categories": [
           {
            "name": "/work/GWALKVelAngularNoLineal.xlsx",
            "count": 3
           },
           {
            "name": "/work/GWALKEspacial.xlsx",
            "count": 3
           },
           {
            "name": "2 others",
            "count": 4
           }
          ]
         }
        },
        {
         "name": 1,
         "dtype": "object",
         "stats": {
          "unique_count": 3,
          "nan_count": 0,
          "categories": [
           {
            "name": "Cadencia",
            "count": 4
           },
           {
            "name": "Velocidad",
            "count": 3
           },
           {
            "name": "LongitudZancada",
            "count": 3
           }
          ]
         }
        },
        {
         "name": 2,
         "dtype": "float64",
         "stats": {
          "unique_count": 10,
          "nan_count": 0,
          "min": "0.5758076298776029",
          "max": "0.9526416538448725",
          "histogram": [
           {
            "bin_start": 0.5758076298776029,
            "bin_end": 0.6134910322743299,
            "count": 1
           },
           {
            "bin_start": 0.6134910322743299,
            "bin_end": 0.6511744346710568,
            "count": 0
           },
           {
            "bin_start": 0.6511744346710568,
            "bin_end": 0.6888578370677838,
            "count": 0
           },
           {
            "bin_start": 0.6888578370677838,
            "bin_end": 0.7265412394645108,
            "count": 0
           },
           {
            "bin_start": 0.7265412394645108,
            "bin_end": 0.7642246418612377,
            "count": 2
           },
           {
            "bin_start": 0.7642246418612377,
            "bin_end": 0.8019080442579647,
            "count": 1
           },
           {
            "bin_start": 0.8019080442579647,
            "bin_end": 0.8395914466546917,
            "count": 1
           },
           {
            "bin_start": 0.8395914466546917,
            "bin_end": 0.8772748490514186,
            "count": 3
           },
           {
            "bin_start": 0.8772748490514186,
            "bin_end": 0.9149582514481456,
            "count": 0
           },
           {
            "bin_start": 0.9149582514481456,
            "bin_end": 0.9526416538448725,
            "count": 2
           }
          ]
         }
        },
        {
         "name": 3,
         "dtype": "float64",
         "stats": {
          "unique_count": 10,
          "nan_count": 0,
          "min": "0.648734233360617",
          "max": "0.9590936866034404",
          "histogram": [
           {
            "bin_start": 0.648734233360617,
            "bin_end": 0.6797701786848993,
            "count": 1
           },
           {
            "bin_start": 0.6797701786848993,
            "bin_end": 0.7108061240091816,
            "count": 0
           },
           {
            "bin_start": 0.7108061240091816,
            "bin_end": 0.741842069333464,
            "count": 0
           },
           {
            "bin_start": 0.741842069333464,
            "bin_end": 0.7728780146577463,
            "count": 0
           },
           {
            "bin_start": 0.7728780146577463,
            "bin_end": 0.8039139599820286,
            "count": 1
           },
           {
            "bin_start": 0.8039139599820286,
            "bin_end": 0.834949905306311,
            "count": 2
           },
           {
            "bin_start": 0.834949905306311,
            "bin_end": 0.8659858506305934,
            "count": 2
           },
           {
            "bin_start": 0.8659858506305934,
            "bin_end": 0.8970217959548757,
            "count": 2
           },
           {
            "bin_start": 0.8970217959548757,
            "bin_end": 0.9280577412791581,
            "count": 0
           },
           {
            "bin_start": 0.9280577412791581,
            "bin_end": 0.9590936866034404,
            "count": 2
           }
          ]
         }
        },
        {
         "name": 4,
         "dtype": "object",
         "stats": {
          "unique_count": 10,
          "nan_count": 0,
          "categories": [
           {
            "name": "{'model__max_depth': 20, 'model__min_samples_leaf': 5, 'model__min_samples_split': 5, 'model__n_estimators': 100}",
            "count": 7
           },
           {
            "name": "{'model__max_depth': 20, 'model__min_samples_leaf': 5, 'model__min_samples_split': 10, 'model__n_estimators': 100}",
            "count": 3
           }
          ]
         }
        },
        {
         "name": "_deepnote_index_column",
         "dtype": "int64"
        }
       ],
       "rows": [
        {
         "0": "/work/GWALKVelAngularNoLineal.xlsx",
         "1": "Cadencia",
         "2": 0.5758076298776029,
         "3": 0.648734233360617,
         "4": "{'model__max_depth': 20, 'model__min_samples_leaf': 5, 'model__min_samples_split': 10, 'model__n_es…",
         "_deepnote_index_column": 0
        },
        {
         "0": "/work/GWALKVelAngularNoLineal.xlsx",
         "1": "Velocidad",
         "2": 0.7356166738962957,
         "3": 0.7968752958224619,
         "4": "{'model__max_depth': 20, 'model__min_samples_leaf': 5, 'model__min_samples_split': 5, 'model__n_est…",
         "_deepnote_index_column": 1
        },
        {
         "0": "/work/GWALKVelAngularNoLineal.xlsx",
         "1": "LongitudZancada",
         "2": 0.7329988282742871,
         "3": 0.8112415108587236,
         "4": "{'model__max_depth': 20, 'model__min_samples_leaf': 5, 'model__min_samples_split': 5, 'model__n_est…",
         "_deepnote_index_column": 2
        },
        {
         "0": "/work/GWALKEspacial.xlsx",
         "1": "Cadencia",
         "2": 0.8232764686104124,
         "3": 0.8512786475438875,
         "4": "{'model__max_depth': 20, 'model__min_samples_leaf': 5, 'model__min_samples_split': 10, 'model__n_es…",
         "_deepnote_index_column": 3
        },
        {
         "0": "/work/GWALKEspacial.xlsx",
         "1": "Velocidad",
         "2": 0.9526416538448725,
         "3": 0.9590936866034404,
         "4": "{'model__max_depth': 20, 'model__min_samples_leaf': 5, 'model__min_samples_split': 5, 'model__n_est…",
         "_deepnote_index_column": 4
        },
        {
         "0": "/work/GWALKEspacial.xlsx",
         "1": "LongitudZancada",
         "2": 0.9264212512607347,
         "3": 0.9570258260360334,
         "4": "{'model__max_depth': 20, 'model__min_samples_leaf': 5, 'model__min_samples_split': 5, 'model__n_est…",
         "_deepnote_index_column": 5
        },
        {
         "0": "/work/AWR.xlsx",
         "1": "Cadencia",
         "2": 0.8437161868137879,
         "3": 0.815225178577406,
         "4": "{'model__max_depth': 20, 'model__min_samples_leaf': 5, 'model__min_samples_split': 5, 'model__n_est…",
         "_deepnote_index_column": 6
        },
        {
         "0": "/work/AWR.xlsx",
         "1": "Velocidad",
         "2": 0.8517389550355597,
         "3": 0.8682393924077734,
         "4": "{'model__max_depth': 20, 'model__min_samples_leaf': 5, 'model__min_samples_split': 10, 'model__n_es…",
         "_deepnote_index_column": 7
        },
        {
         "0": "/work/AWR.xlsx",
         "1": "LongitudZancada",
         "2": 0.7747785450692218,
         "3": 0.8456448987756381,
         "4": "{'model__max_depth': 20, 'model__min_samples_leaf': 5, 'model__min_samples_split': 5, 'model__n_est…",
         "_deepnote_index_column": 8
        },
        {
         "0": "/work/IMUR.xlsx",
         "1": "Cadencia",
         "2": 0.8439063277668476,
         "3": 0.8831830060019266,
         "4": "{'model__max_depth': 20, 'model__min_samples_leaf': 5, 'model__min_samples_split': 5, 'model__n_est…",
         "_deepnote_index_column": 9
        }
       ]
      },
      "text/plain": "                                    0                1         2         3  \\\n0  /work/GWALKVelAngularNoLineal.xlsx         Cadencia  0.575808  0.648734   \n1  /work/GWALKVelAngularNoLineal.xlsx        Velocidad  0.735617  0.796875   \n2  /work/GWALKVelAngularNoLineal.xlsx  LongitudZancada  0.732999  0.811242   \n3            /work/GWALKEspacial.xlsx         Cadencia  0.823276  0.851279   \n4            /work/GWALKEspacial.xlsx        Velocidad  0.952642  0.959094   \n5            /work/GWALKEspacial.xlsx  LongitudZancada  0.926421  0.957026   \n6                      /work/AWR.xlsx         Cadencia  0.843716  0.815225   \n7                      /work/AWR.xlsx        Velocidad  0.851739  0.868239   \n8                      /work/AWR.xlsx  LongitudZancada  0.774779  0.845645   \n9                     /work/IMUR.xlsx         Cadencia  0.843906  0.883183   \n\n                                                   4  \n0  {'model__max_depth': 20, 'model__min_samples_l...  \n1  {'model__max_depth': 20, 'model__min_samples_l...  \n2  {'model__max_depth': 20, 'model__min_samples_l...  \n3  {'model__max_depth': 20, 'model__min_samples_l...  \n4  {'model__max_depth': 20, 'model__min_samples_l...  \n5  {'model__max_depth': 20, 'model__min_samples_l...  \n6  {'model__max_depth': 20, 'model__min_samples_l...  \n7  {'model__max_depth': 20, 'model__min_samples_l...  \n8  {'model__max_depth': 20, 'model__min_samples_l...  \n9  {'model__max_depth': 20, 'model__min_samples_l...  ",
      "text/html": "<div>\n<style scoped>\n    .dataframe tbody tr th:only-of-type {\n        vertical-align: middle;\n    }\n\n    .dataframe tbody tr th {\n        vertical-align: top;\n    }\n\n    .dataframe thead th {\n        text-align: right;\n    }\n</style>\n<table border=\"1\" class=\"dataframe\">\n  <thead>\n    <tr style=\"text-align: right;\">\n      <th></th>\n      <th>0</th>\n      <th>1</th>\n      <th>2</th>\n      <th>3</th>\n      <th>4</th>\n    </tr>\n  </thead>\n  <tbody>\n    <tr>\n      <th>0</th>\n      <td>/work/GWALKVelAngularNoLineal.xlsx</td>\n      <td>Cadencia</td>\n      <td>0.575808</td>\n      <td>0.648734</td>\n      <td>{'model__max_depth': 20, 'model__min_samples_l...</td>\n    </tr>\n    <tr>\n      <th>1</th>\n      <td>/work/GWALKVelAngularNoLineal.xlsx</td>\n      <td>Velocidad</td>\n      <td>0.735617</td>\n      <td>0.796875</td>\n      <td>{'model__max_depth': 20, 'model__min_samples_l...</td>\n    </tr>\n    <tr>\n      <th>2</th>\n      <td>/work/GWALKVelAngularNoLineal.xlsx</td>\n      <td>LongitudZancada</td>\n      <td>0.732999</td>\n      <td>0.811242</td>\n      <td>{'model__max_depth': 20, 'model__min_samples_l...</td>\n    </tr>\n    <tr>\n      <th>3</th>\n      <td>/work/GWALKEspacial.xlsx</td>\n      <td>Cadencia</td>\n      <td>0.823276</td>\n      <td>0.851279</td>\n      <td>{'model__max_depth': 20, 'model__min_samples_l...</td>\n    </tr>\n    <tr>\n      <th>4</th>\n      <td>/work/GWALKEspacial.xlsx</td>\n      <td>Velocidad</td>\n      <td>0.952642</td>\n      <td>0.959094</td>\n      <td>{'model__max_depth': 20, 'model__min_samples_l...</td>\n    </tr>\n    <tr>\n      <th>5</th>\n      <td>/work/GWALKEspacial.xlsx</td>\n      <td>LongitudZancada</td>\n      <td>0.926421</td>\n      <td>0.957026</td>\n      <td>{'model__max_depth': 20, 'model__min_samples_l...</td>\n    </tr>\n    <tr>\n      <th>6</th>\n      <td>/work/AWR.xlsx</td>\n      <td>Cadencia</td>\n      <td>0.843716</td>\n      <td>0.815225</td>\n      <td>{'model__max_depth': 20, 'model__min_samples_l...</td>\n    </tr>\n    <tr>\n      <th>7</th>\n      <td>/work/AWR.xlsx</td>\n      <td>Velocidad</td>\n      <td>0.851739</td>\n      <td>0.868239</td>\n      <td>{'model__max_depth': 20, 'model__min_samples_l...</td>\n    </tr>\n    <tr>\n      <th>8</th>\n      <td>/work/AWR.xlsx</td>\n      <td>LongitudZancada</td>\n      <td>0.774779</td>\n      <td>0.845645</td>\n      <td>{'model__max_depth': 20, 'model__min_samples_l...</td>\n    </tr>\n    <tr>\n      <th>9</th>\n      <td>/work/IMUR.xlsx</td>\n      <td>Cadencia</td>\n      <td>0.843906</td>\n      <td>0.883183</td>\n      <td>{'model__max_depth': 20, 'model__min_samples_l...</td>\n    </tr>\n  </tbody>\n</table>\n</div>"
     },
     "metadata": {}
    }
   ]
  },
  {
   "cell_type": "code",
   "metadata": {
    "cell_id": "9b852ae9-4218-43a4-9bda-a0cd214a12d2",
    "tags": [],
    "deepnote_to_be_reexecuted": false,
    "source_hash": "c9e2ef97",
    "execution_start": 1647019344104,
    "execution_millis": 3,
    "deepnote_cell_type": "code",
    "deepnote_cell_height": 81.453125
   },
   "source": "DataRandomForest.to_csv('DataRandomForest.csv')",
   "execution_count": 18,
   "outputs": []
  },
  {
   "cell_type": "markdown",
   "source": "### Support Vector Machine",
   "metadata": {
    "tags": [],
    "is_collapsed": false,
    "deepnote_app_coordinates": {
     "x": 0,
     "y": 489,
     "w": 12,
     "h": 5
    },
    "cell_id": "00038-06423fc4-e6e1-4aaa-ad15-29fffd710224",
    "deepnote_cell_type": "text-cell-h3",
    "deepnote_cell_height": 62.453125
   }
  },
  {
   "cell_type": "code",
   "metadata": {
    "tags": [],
    "deepnote_to_be_reexecuted": false,
    "source_hash": "42e12992",
    "execution_start": 1647018576684,
    "execution_millis": 4,
    "deepnote_app_coordinates": {
     "x": 0,
     "y": 495,
     "w": 12,
     "h": 5
    },
    "cell_id": "00039-9212b2d1-7e86-4168-911e-fde7ab95642c",
    "deepnote_cell_type": "code",
    "deepnote_cell_height": 261.453125
   },
   "source": "#Se definen los hiperparametros a optimizar\n\n#param_gride = {\"model__kernel\": ['poly','rbf'],\n#              \"model__gamma\": ['scale','auto'],\n#              \"model__degree\": [1,2,3,4,5],\n#              \"model__epsilon\": [0.0001,0.00025,0.005,0.001,0.01,0.05, 0.1, 0.5, 1],\n#              \"model__C\":  [1, 5, 10, 25, 50, 100]\n#               }\n\n#param_gride = {\"model__kernel\": ['poly','rbf'],\"model__gamma\": ['scale','auto'],\"model__degree\": [1,2,3,4,5],\"model__epsilon\": [0.0001,0.00025,0.005,0.001,0.01,0.05, 0.1, 0.5, 1],\"model__C\":  [1, 5, 10, 25, 50, 100]}\nparam_gride = {\"model__kernel\": ['poly','rbf'],\"model__gamma\": ['scale','auto'],\"model__degree\": [1,2],\"model__epsilon\": [0.0001,0.5, 1],\"model__C\":  [1, 5]}",
   "execution_count": 14,
   "outputs": []
  },
  {
   "cell_type": "code",
   "metadata": {
    "tags": [],
    "cell_id": "00040-7b6ac1db-3415-48e4-81c3-7dc6def500a4",
    "deepnote_to_be_reexecuted": false,
    "source_hash": "7a0e5af3",
    "execution_start": 1647018576701,
    "execution_millis": 767318,
    "deepnote_cell_type": "code",
    "deepnote_cell_height": 1547.6875
   },
   "source": "import time\nstart_time = time.time()\n\nprint('-------------------INICIO PROCESAMIENTO-----------------')\n\nDataSVM = []\n\nfor f in all_files:\n    train_features = pd.read_excel(f)\n    # Train, test split.\n    data_split = train_test_split(train_features, targets, test_size=0.3, random_state=4444)\n    X_train, X_test, targets_train, targets_test = data_split\n\n    # Find the best model per target.\n    for target in range(targets.shape[1]):\n        # Getting the target.\n        y_train = targets_train.iloc[:, target]\n        y_test = targets_test.iloc[:, target]\n\n    # Model definition.\n        pipe = Pipeline([(\"minmax\", MinMaxScaler((-1, 1))),\n                      (\"model\", SVR())])\n    # By default GridSearchCV uses a 5-kfold validation strategy.\n        search = GridSearchCV(estimator=pipe, param_grid = param_gride, cv=10, n_jobs=-1)  \n        search.fit(X_train.values, y_train.values)\n\n    # Getting the test score.\n        y_hat_test = search.predict(X_test.values)\n        test_score = r2_score(y_test.values, y_hat_test)\n\n    # Printing stats.\n        print(f\"Columna: {targets.columns[target]}\")\n        print(f\"Best CV score: {search.best_score_:0.3f}\")\n        print(f\"Test score: {test_score:0.3f}\")\n        print(f\"Best Parameters:\\n {search.best_params_}\")\n        print(\"\")\n\n    #Save stats\n        DataSVM.append([f,targets.columns[target],search.best_score_,test_score,search.best_params_])\n\n\nprint('--------------------------------------------------------------')\nprint('PROCESAMIENTO FINALIZADO EXITOSAMENTE!!!')\nprint('--------------------------------------------------------------')\n\nTIEMPO = (time.time() - start_time)/60\n\nprint(\"--- %s Minutos ---\" % (TIEMPO))",
   "execution_count": 15,
   "outputs": [
    {
     "name": "stdout",
     "text": "-------------------INICIO PROCESAMIENTO-----------------\nColumna: Cadencia\nBest CV score: 0.632\nTest score: 0.718\nBest Parameters:\n {'model__C': 5, 'model__degree': 1, 'model__epsilon': 0.5, 'model__gamma': 'scale', 'model__kernel': 'rbf'}\n\nColumna: Velocidad\nBest CV score: 0.830\nTest score: 0.823\nBest Parameters:\n {'model__C': 1, 'model__degree': 1, 'model__epsilon': 0.0001, 'model__gamma': 'scale', 'model__kernel': 'rbf'}\n\nColumna: LongitudZancada\nBest CV score: 0.806\nTest score: 0.807\nBest Parameters:\n {'model__C': 1, 'model__degree': 1, 'model__epsilon': 0.0001, 'model__gamma': 'scale', 'model__kernel': 'rbf'}\n\nColumna: Cadencia\nBest CV score: 0.849\nTest score: 0.907\nBest Parameters:\n {'model__C': 5, 'model__degree': 1, 'model__epsilon': 0.0001, 'model__gamma': 'scale', 'model__kernel': 'rbf'}\n\nColumna: Velocidad\nBest CV score: 0.968\nTest score: 0.979\nBest Parameters:\n {'model__C': 5, 'model__degree': 1, 'model__epsilon': 0.0001, 'model__gamma': 'auto', 'model__kernel': 'rbf'}\n\nColumna: LongitudZancada\nBest CV score: 0.953\nTest score: 0.970\nBest Parameters:\n {'model__C': 1, 'model__degree': 1, 'model__epsilon': 0.0001, 'model__gamma': 'scale', 'model__kernel': 'rbf'}\n\nColumna: Cadencia\nBest CV score: 0.828\nTest score: 0.810\nBest Parameters:\n {'model__C': 5, 'model__degree': 1, 'model__epsilon': 0.0001, 'model__gamma': 'scale', 'model__kernel': 'rbf'}\n\nColumna: Velocidad\nBest CV score: 0.863\nTest score: 0.846\nBest Parameters:\n {'model__C': 1, 'model__degree': 1, 'model__epsilon': 0.0001, 'model__gamma': 'scale', 'model__kernel': 'rbf'}\n\nColumna: LongitudZancada\nBest CV score: 0.807\nTest score: 0.843\nBest Parameters:\n {'model__C': 1, 'model__degree': 1, 'model__epsilon': 0.0001, 'model__gamma': 'scale', 'model__kernel': 'rbf'}\n\nColumna: Cadencia\nBest CV score: 0.722\nTest score: 0.739\nBest Parameters:\n {'model__C': 5, 'model__degree': 1, 'model__epsilon': 1, 'model__gamma': 'scale', 'model__kernel': 'rbf'}\n\nColumna: Velocidad\nBest CV score: 0.880\nTest score: 0.904\nBest Parameters:\n {'model__C': 5, 'model__degree': 1, 'model__epsilon': 0.0001, 'model__gamma': 'scale', 'model__kernel': 'rbf'}\n\nColumna: LongitudZancada\nBest CV score: 0.823\nTest score: 0.875\nBest Parameters:\n {'model__C': 5, 'model__degree': 1, 'model__epsilon': 0.0001, 'model__gamma': 'scale', 'model__kernel': 'rbf'}\n\nColumna: Cadencia\nBest CV score: 0.780\nTest score: 0.746\nBest Parameters:\n {'model__C': 5, 'model__degree': 1, 'model__epsilon': 1, 'model__gamma': 'scale', 'model__kernel': 'rbf'}\n\nColumna: Velocidad\nBest CV score: 0.859\nTest score: 0.893\nBest Parameters:\n {'model__C': 1, 'model__degree': 1, 'model__epsilon': 0.0001, 'model__gamma': 'scale', 'model__kernel': 'rbf'}\n\nColumna: LongitudZancada\nBest CV score: 0.849\nTest score: 0.844\nBest Parameters:\n {'model__C': 5, 'model__degree': 1, 'model__epsilon': 0.0001, 'model__gamma': 'scale', 'model__kernel': 'rbf'}\n\nColumna: Cadencia\nBest CV score: 0.743\nTest score: 0.714\nBest Parameters:\n {'model__C': 5, 'model__degree': 1, 'model__epsilon': 0.0001, 'model__gamma': 'scale', 'model__kernel': 'rbf'}\n\nColumna: Velocidad\nBest CV score: 0.849\nTest score: 0.831\nBest Parameters:\n {'model__C': 1, 'model__degree': 1, 'model__epsilon': 0.0001, 'model__gamma': 'scale', 'model__kernel': 'rbf'}\n\nColumna: LongitudZancada\nBest CV score: 0.796\nTest score: 0.818\nBest Parameters:\n {'model__C': 1, 'model__degree': 1, 'model__epsilon': 0.0001, 'model__gamma': 'scale', 'model__kernel': 'rbf'}\n\nColumna: Cadencia\nBest CV score: 0.527\nTest score: 0.623\nBest Parameters:\n {'model__C': 5, 'model__degree': 1, 'model__epsilon': 1, 'model__gamma': 'scale', 'model__kernel': 'rbf'}\n\nColumna: Velocidad\nBest CV score: 0.819\nTest score: 0.784\nBest Parameters:\n {'model__C': 5, 'model__degree': 1, 'model__epsilon': 0.0001, 'model__gamma': 'scale', 'model__kernel': 'rbf'}\n\nColumna: LongitudZancada\nBest CV score: 0.787\nTest score: 0.795\nBest Parameters:\n {'model__C': 1, 'model__degree': 1, 'model__epsilon': 0.0001, 'model__gamma': 'scale', 'model__kernel': 'rbf'}\n\nColumna: Cadencia\nBest CV score: 0.780\nTest score: 0.807\nBest Parameters:\n {'model__C': 5, 'model__degree': 1, 'model__epsilon': 0.5, 'model__gamma': 'scale', 'model__kernel': 'rbf'}\n\nColumna: Velocidad\nBest CV score: 0.946\nTest score: 0.950\nBest Parameters:\n {'model__C': 1, 'model__degree': 1, 'model__epsilon': 0.0001, 'model__gamma': 'auto', 'model__kernel': 'rbf'}\n\nColumna: LongitudZancada\nBest CV score: 0.917\nTest score: 0.910\nBest Parameters:\n {'model__C': 1, 'model__degree': 1, 'model__epsilon': 0.0001, 'model__gamma': 'scale', 'model__kernel': 'rbf'}\n\nColumna: Cadencia\nBest CV score: 0.812\nTest score: 0.851\nBest Parameters:\n {'model__C': 5, 'model__degree': 1, 'model__epsilon': 0.5, 'model__gamma': 'scale', 'model__kernel': 'rbf'}\n\nColumna: Velocidad\nBest CV score: 0.918\nTest score: 0.926\nBest Parameters:\n {'model__C': 1, 'model__degree': 1, 'model__epsilon': 0.0001, 'model__gamma': 'scale', 'model__kernel': 'rbf'}\n\nColumna: LongitudZancada\nBest CV score: 0.895\nTest score: 0.912\nBest Parameters:\n {'model__C': 1, 'model__degree': 1, 'model__epsilon': 0.0001, 'model__gamma': 'scale', 'model__kernel': 'rbf'}\n\nColumna: Cadencia\nBest CV score: 0.836\nTest score: 0.806\nBest Parameters:\n {'model__C': 5, 'model__degree': 1, 'model__epsilon': 0.0001, 'model__gamma': 'scale', 'model__kernel': 'rbf'}\n\nColumna: Velocidad\nBest CV score: 0.900\nTest score: 0.897\nBest Parameters:\n {'model__C': 5, 'model__degree': 1, 'model__epsilon': 0.0001, 'model__gamma': 'scale', 'model__kernel': 'rbf'}\n\nColumna: LongitudZancada\nBest CV score: 0.869\nTest score: 0.887\nBest Parameters:\n {'model__C': 5, 'model__degree': 1, 'model__epsilon': 0.0001, 'model__gamma': 'scale', 'model__kernel': 'rbf'}\n\nColumna: Cadencia\nBest CV score: 0.732\nTest score: 0.677\nBest Parameters:\n {'model__C': 5, 'model__degree': 1, 'model__epsilon': 0.5, 'model__gamma': 'scale', 'model__kernel': 'rbf'}\n\nColumna: Velocidad\nBest CV score: 0.732\nTest score: 0.742\nBest Parameters:\n {'model__C': 1, 'model__degree': 1, 'model__epsilon': 0.0001, 'model__gamma': 'scale', 'model__kernel': 'rbf'}\n\nColumna: LongitudZancada\nBest CV score: 0.643\nTest score: 0.723\nBest Parameters:\n {'model__C': 1, 'model__degree': 1, 'model__epsilon': 0.0001, 'model__gamma': 'scale', 'model__kernel': 'rbf'}\n\nColumna: Cadencia\nBest CV score: 0.707\nTest score: 0.696\nBest Parameters:\n {'model__C': 5, 'model__degree': 1, 'model__epsilon': 0.0001, 'model__gamma': 'scale', 'model__kernel': 'rbf'}\n\nColumna: Velocidad\nBest CV score: 0.748\nTest score: 0.747\nBest Parameters:\n {'model__C': 1, 'model__degree': 1, 'model__epsilon': 0.0001, 'model__gamma': 'scale', 'model__kernel': 'rbf'}\n\nColumna: LongitudZancada\nBest CV score: 0.683\nTest score: 0.687\nBest Parameters:\n {'model__C': 1, 'model__degree': 1, 'model__epsilon': 0.0001, 'model__gamma': 'scale', 'model__kernel': 'rbf'}\n\nColumna: Cadencia\nBest CV score: 0.501\nTest score: 0.492\nBest Parameters:\n {'model__C': 5, 'model__degree': 1, 'model__epsilon': 1, 'model__gamma': 'scale', 'model__kernel': 'rbf'}\n\nColumna: Velocidad\nBest CV score: 0.476\nTest score: 0.452\nBest Parameters:\n {'model__C': 1, 'model__degree': 1, 'model__epsilon': 0.0001, 'model__gamma': 'scale', 'model__kernel': 'rbf'}\n\nColumna: LongitudZancada\nBest CV score: 0.395\nTest score: 0.440\nBest Parameters:\n {'model__C': 1, 'model__degree': 1, 'model__epsilon': 0.0001, 'model__gamma': 'scale', 'model__kernel': 'rbf'}\n\nColumna: Cadencia\nBest CV score: 0.810\nTest score: 0.803\nBest Parameters:\n {'model__C': 5, 'model__degree': 1, 'model__epsilon': 0.0001, 'model__gamma': 'scale', 'model__kernel': 'rbf'}\n\nColumna: Velocidad\nBest CV score: 0.881\nTest score: 0.898\nBest Parameters:\n {'model__C': 1, 'model__degree': 1, 'model__epsilon': 0.0001, 'model__gamma': 'scale', 'model__kernel': 'rbf'}\n\nColumna: LongitudZancada\nBest CV score: 0.834\nTest score: 0.878\nBest Parameters:\n {'model__C': 1, 'model__degree': 1, 'model__epsilon': 0.0001, 'model__gamma': 'scale', 'model__kernel': 'rbf'}\n\nColumna: Cadencia\nBest CV score: 0.697\nTest score: 0.641\nBest Parameters:\n {'model__C': 5, 'model__degree': 1, 'model__epsilon': 0.0001, 'model__gamma': 'scale', 'model__kernel': 'rbf'}\n\nColumna: Velocidad\nBest CV score: 0.741\nTest score: 0.732\nBest Parameters:\n {'model__C': 5, 'model__degree': 1, 'model__epsilon': 0.0001, 'model__gamma': 'scale', 'model__kernel': 'rbf'}\n\nColumna: LongitudZancada\nBest CV score: 0.714\nTest score: 0.801\nBest Parameters:\n {'model__C': 1, 'model__degree': 1, 'model__epsilon': 0.0001, 'model__gamma': 'scale', 'model__kernel': 'rbf'}\n\nColumna: Cadencia\nBest CV score: 0.602\nTest score: 0.649\nBest Parameters:\n {'model__C': 5, 'model__degree': 1, 'model__epsilon': 1, 'model__gamma': 'scale', 'model__kernel': 'rbf'}\n\nColumna: Velocidad\nBest CV score: 0.873\nTest score: 0.919\nBest Parameters:\n {'model__C': 5, 'model__degree': 1, 'model__epsilon': 0.0001, 'model__gamma': 'scale', 'model__kernel': 'rbf'}\n\nColumna: LongitudZancada\nBest CV score: 0.834\nTest score: 0.879\nBest Parameters:\n {'model__C': 5, 'model__degree': 1, 'model__epsilon': 0.0001, 'model__gamma': 'scale', 'model__kernel': 'rbf'}\n\nColumna: Cadencia\nBest CV score: 0.768\nTest score: 0.765\nBest Parameters:\n {'model__C': 5, 'model__degree': 1, 'model__epsilon': 0.5, 'model__gamma': 'scale', 'model__kernel': 'rbf'}\n\nColumna: Velocidad\nBest CV score: 0.852\nTest score: 0.875\nBest Parameters:\n {'model__C': 1, 'model__degree': 1, 'model__epsilon': 0.0001, 'model__gamma': 'scale', 'model__kernel': 'rbf'}\n\nColumna: LongitudZancada\nBest CV score: 0.799\nTest score: 0.834\nBest Parameters:\n {'model__C': 5, 'model__degree': 1, 'model__epsilon': 0.0001, 'model__gamma': 'scale', 'model__kernel': 'rbf'}\n\nColumna: Cadencia\nBest CV score: 0.753\nTest score: 0.745\nBest Parameters:\n {'model__C': 5, 'model__degree': 1, 'model__epsilon': 1, 'model__gamma': 'scale', 'model__kernel': 'rbf'}\n\nColumna: Velocidad\nBest CV score: 0.816\nTest score: 0.849\nBest Parameters:\n {'model__C': 1, 'model__degree': 1, 'model__epsilon': 0.0001, 'model__gamma': 'scale', 'model__kernel': 'rbf'}\n\nColumna: LongitudZancada\nBest CV score: 0.722\nTest score: 0.798\nBest Parameters:\n {'model__C': 1, 'model__degree': 1, 'model__epsilon': 0.0001, 'model__gamma': 'scale', 'model__kernel': 'rbf'}\n\nColumna: Cadencia\nBest CV score: 0.599\nTest score: 0.584\nBest Parameters:\n {'model__C': 5, 'model__degree': 1, 'model__epsilon': 0.5, 'model__gamma': 'scale', 'model__kernel': 'rbf'}\n\nColumna: Velocidad\nBest CV score: 0.805\nTest score: 0.815\nBest Parameters:\n {'model__C': 1, 'model__degree': 1, 'model__epsilon': 0.0001, 'model__gamma': 'scale', 'model__kernel': 'rbf'}\n\nColumna: LongitudZancada\nBest CV score: 0.764\nTest score: 0.816\nBest Parameters:\n {'model__C': 1, 'model__degree': 1, 'model__epsilon': 0.0001, 'model__gamma': 'scale', 'model__kernel': 'rbf'}\n\nColumna: Cadencia\nBest CV score: 0.784\nTest score: 0.760\nBest Parameters:\n {'model__C': 5, 'model__degree': 1, 'model__epsilon': 0.0001, 'model__gamma': 'scale', 'model__kernel': 'rbf'}\n\nColumna: Velocidad\nBest CV score: 0.900\nTest score: 0.905\nBest Parameters:\n {'model__C': 1, 'model__degree': 1, 'model__epsilon': 0.0001, 'model__gamma': 'scale', 'model__kernel': 'rbf'}\n\nColumna: LongitudZancada\nBest CV score: 0.884\nTest score: 0.902\nBest Parameters:\n {'model__C': 1, 'model__degree': 1, 'model__epsilon': 0.0001, 'model__gamma': 'scale', 'model__kernel': 'rbf'}\n\nColumna: Cadencia\nBest CV score: 0.719\nTest score: 0.714\nBest Parameters:\n {'model__C': 5, 'model__degree': 1, 'model__epsilon': 1, 'model__gamma': 'scale', 'model__kernel': 'rbf'}\n\nColumna: Velocidad\nBest CV score: 0.757\nTest score: 0.751\nBest Parameters:\n {'model__C': 1, 'model__degree': 1, 'model__epsilon': 0.0001, 'model__gamma': 'scale', 'model__kernel': 'rbf'}\n\nColumna: LongitudZancada\nBest CV score: 0.614\nTest score: 0.670\nBest Parameters:\n {'model__C': 1, 'model__degree': 1, 'model__epsilon': 0.0001, 'model__gamma': 'scale', 'model__kernel': 'rbf'}\n\nColumna: Cadencia\nBest CV score: 0.559\nTest score: 0.524\nBest Parameters:\n {'model__C': 5, 'model__degree': 1, 'model__epsilon': 1, 'model__gamma': 'scale', 'model__kernel': 'rbf'}\n\nColumna: Velocidad\nBest CV score: 0.669\nTest score: 0.665\nBest Parameters:\n {'model__C': 1, 'model__degree': 1, 'model__epsilon': 0.0001, 'model__gamma': 'scale', 'model__kernel': 'rbf'}\n\nColumna: LongitudZancada\nBest CV score: 0.532\nTest score: 0.596\nBest Parameters:\n {'model__C': 5, 'model__degree': 1, 'model__epsilon': 0.0001, 'model__gamma': 'scale', 'model__kernel': 'rbf'}\n\nColumna: Cadencia\nBest CV score: 0.726\nTest score: 0.737\nBest Parameters:\n {'model__C': 5, 'model__degree': 1, 'model__epsilon': 0.5, 'model__gamma': 'scale', 'model__kernel': 'rbf'}\n\nColumna: Velocidad\nBest CV score: 0.833\nTest score: 0.862\nBest Parameters:\n {'model__C': 1, 'model__degree': 1, 'model__epsilon': 0.0001, 'model__gamma': 'scale', 'model__kernel': 'rbf'}\n\nColumna: LongitudZancada\nBest CV score: 0.793\nTest score: 0.843\nBest Parameters:\n {'model__C': 5, 'model__degree': 1, 'model__epsilon': 0.0001, 'model__gamma': 'scale', 'model__kernel': 'rbf'}\n\nColumna: Cadencia\nBest CV score: 0.803\nTest score: 0.839\nBest Parameters:\n {'model__C': 5, 'model__degree': 1, 'model__epsilon': 0.5, 'model__gamma': 'scale', 'model__kernel': 'rbf'}\n\nColumna: Velocidad\nBest CV score: 0.957\nTest score: 0.969\nBest Parameters:\n {'model__C': 1, 'model__degree': 1, 'model__epsilon': 0.0001, 'model__gamma': 'scale', 'model__kernel': 'rbf'}\n\nColumna: LongitudZancada\nBest CV score: 0.942\nTest score: 0.953\nBest Parameters:\n {'model__C': 1, 'model__degree': 1, 'model__epsilon': 0.0001, 'model__gamma': 'scale', 'model__kernel': 'rbf'}\n\nColumna: Cadencia\nBest CV score: 0.703\nTest score: 0.691\nBest Parameters:\n {'model__C': 5, 'model__degree': 1, 'model__epsilon': 1, 'model__gamma': 'scale', 'model__kernel': 'rbf'}\n\nColumna: Velocidad\nBest CV score: 0.833\nTest score: 0.856\nBest Parameters:\n {'model__C': 5, 'model__degree': 1, 'model__epsilon': 0.0001, 'model__gamma': 'scale', 'model__kernel': 'rbf'}\n\nColumna: LongitudZancada\nBest CV score: 0.776\nTest score: 0.818\nBest Parameters:\n {'model__C': 5, 'model__degree': 1, 'model__epsilon': 0.0001, 'model__gamma': 'scale', 'model__kernel': 'rbf'}\n\nColumna: Cadencia\nBest CV score: 0.636\nTest score: 0.579\nBest Parameters:\n {'model__C': 5, 'model__degree': 1, 'model__epsilon': 0.5, 'model__gamma': 'scale', 'model__kernel': 'rbf'}\n\nColumna: Velocidad\nBest CV score: 0.666\nTest score: 0.686\nBest Parameters:\n {'model__C': 1, 'model__degree': 1, 'model__epsilon': 0.0001, 'model__gamma': 'scale', 'model__kernel': 'rbf'}\n\nColumna: LongitudZancada\nBest CV score: 0.542\nTest score: 0.612\nBest Parameters:\n {'model__C': 1, 'model__degree': 1, 'model__epsilon': 0.0001, 'model__gamma': 'scale', 'model__kernel': 'rbf'}\n\nColumna: Cadencia\nBest CV score: 0.649\nTest score: 0.679\nBest Parameters:\n {'model__C': 5, 'model__degree': 1, 'model__epsilon': 1, 'model__gamma': 'scale', 'model__kernel': 'rbf'}\n\nColumna: Velocidad\nBest CV score: 0.869\nTest score: 0.879\nBest Parameters:\n {'model__C': 5, 'model__degree': 1, 'model__epsilon': 0.0001, 'model__gamma': 'scale', 'model__kernel': 'rbf'}\n\nColumna: LongitudZancada\nBest CV score: 0.841\nTest score: 0.868\nBest Parameters:\n {'model__C': 5, 'model__degree': 1, 'model__epsilon': 0.0001, 'model__gamma': 'scale', 'model__kernel': 'rbf'}\n\nColumna: Cadencia\nBest CV score: 0.763\nTest score: 0.709\nBest Parameters:\n {'model__C': 5, 'model__degree': 1, 'model__epsilon': 0.5, 'model__gamma': 'scale', 'model__kernel': 'rbf'}\n\nColumna: Velocidad\nBest CV score: 0.811\nTest score: 0.796\nBest Parameters:\n {'model__C': 1, 'model__degree': 1, 'model__epsilon': 0.0001, 'model__gamma': 'scale', 'model__kernel': 'rbf'}\n\nColumna: LongitudZancada\nBest CV score: 0.731\nTest score: 0.751\nBest Parameters:\n {'model__C': 5, 'model__degree': 1, 'model__epsilon': 0.0001, 'model__gamma': 'scale', 'model__kernel': 'rbf'}\n\nColumna: Cadencia\nBest CV score: 0.537\nTest score: 0.493\nBest Parameters:\n {'model__C': 5, 'model__degree': 1, 'model__epsilon': 0.5, 'model__gamma': 'scale', 'model__kernel': 'rbf'}\n\nColumna: Velocidad\nBest CV score: 0.541\nTest score: 0.483\nBest Parameters:\n {'model__C': 5, 'model__degree': 1, 'model__epsilon': 0.0001, 'model__gamma': 'auto', 'model__kernel': 'rbf'}\n\nColumna: LongitudZancada\nBest CV score: 0.314\nTest score: 0.374\nBest Parameters:\n {'model__C': 1, 'model__degree': 1, 'model__epsilon': 0.0001, 'model__gamma': 'scale', 'model__kernel': 'rbf'}\n\nColumna: Cadencia\nBest CV score: 0.643\nTest score: 0.628\nBest Parameters:\n {'model__C': 5, 'model__degree': 1, 'model__epsilon': 1, 'model__gamma': 'scale', 'model__kernel': 'rbf'}\n\nColumna: Velocidad\nBest CV score: 0.648\nTest score: 0.641\nBest Parameters:\n {'model__C': 1, 'model__degree': 1, 'model__epsilon': 0.0001, 'model__gamma': 'scale', 'model__kernel': 'rbf'}\n\nColumna: LongitudZancada\nBest CV score: 0.586\nTest score: 0.597\nBest Parameters:\n {'model__C': 1, 'model__degree': 1, 'model__epsilon': 0.0001, 'model__gamma': 'scale', 'model__kernel': 'rbf'}\n\nColumna: Cadencia\nBest CV score: 0.464\nTest score: 0.458\nBest Parameters:\n {'model__C': 5, 'model__degree': 1, 'model__epsilon': 0.0001, 'model__gamma': 'scale', 'model__kernel': 'rbf'}\n\nColumna: Velocidad\nBest CV score: 0.686\nTest score: 0.764\nBest Parameters:\n {'model__C': 5, 'model__degree': 1, 'model__epsilon': 0.0001, 'model__gamma': 'scale', 'model__kernel': 'rbf'}\n\nColumna: LongitudZancada\nBest CV score: 0.654\nTest score: 0.750\nBest Parameters:\n {'model__C': 5, 'model__degree': 1, 'model__epsilon': 0.0001, 'model__gamma': 'scale', 'model__kernel': 'rbf'}\n\nColumna: Cadencia\nBest CV score: 0.652\nTest score: 0.632\nBest Parameters:\n {'model__C': 5, 'model__degree': 1, 'model__epsilon': 1, 'model__gamma': 'scale', 'model__kernel': 'rbf'}\n\nColumna: Velocidad\nBest CV score: 0.771\nTest score: 0.759\nBest Parameters:\n {'model__C': 1, 'model__degree': 1, 'model__epsilon': 0.0001, 'model__gamma': 'scale', 'model__kernel': 'rbf'}\n\nColumna: LongitudZancada\nBest CV score: 0.623\nTest score: 0.635\nBest Parameters:\n {'model__C': 1, 'model__degree': 1, 'model__epsilon': 0.0001, 'model__gamma': 'scale', 'model__kernel': 'rbf'}\n\nColumna: Cadencia\nBest CV score: 0.739\nTest score: 0.800\nBest Parameters:\n {'model__C': 5, 'model__degree': 1, 'model__epsilon': 1, 'model__gamma': 'scale', 'model__kernel': 'rbf'}\n\nColumna: Velocidad\nBest CV score: 0.901\nTest score: 0.930\nBest Parameters:\n {'model__C': 1, 'model__degree': 1, 'model__epsilon': 0.0001, 'model__gamma': 'scale', 'model__kernel': 'rbf'}\n\nColumna: LongitudZancada\nBest CV score: 0.894\nTest score: 0.915\nBest Parameters:\n {'model__C': 1, 'model__degree': 1, 'model__epsilon': 0.0001, 'model__gamma': 'scale', 'model__kernel': 'rbf'}\n\nColumna: Cadencia\nBest CV score: 0.583\nTest score: 0.537\nBest Parameters:\n {'model__C': 5, 'model__degree': 1, 'model__epsilon': 1, 'model__gamma': 'scale', 'model__kernel': 'rbf'}\n\nColumna: Velocidad\nBest CV score: 0.685\nTest score: 0.696\nBest Parameters:\n {'model__C': 5, 'model__degree': 1, 'model__epsilon': 0.0001, 'model__gamma': 'scale', 'model__kernel': 'rbf'}\n\nColumna: LongitudZancada\nBest CV score: 0.585\nTest score: 0.652\nBest Parameters:\n {'model__C': 5, 'model__degree': 1, 'model__epsilon': 0.0001, 'model__gamma': 'scale', 'model__kernel': 'rbf'}\n\nColumna: Cadencia\nBest CV score: 0.869\nTest score: 0.912\nBest Parameters:\n {'model__C': 5, 'model__degree': 1, 'model__epsilon': 0.0001, 'model__gamma': 'scale', 'model__kernel': 'rbf'}\n\nColumna: Velocidad\nBest CV score: 0.976\nTest score: 0.979\nBest Parameters:\n {'model__C': 1, 'model__degree': 1, 'model__epsilon': 0.0001, 'model__gamma': 'auto', 'model__kernel': 'rbf'}\n\nColumna: LongitudZancada\nBest CV score: 0.958\nTest score: 0.969\nBest Parameters:\n {'model__C': 5, 'model__degree': 1, 'model__epsilon': 0.0001, 'model__gamma': 'auto', 'model__kernel': 'rbf'}\n\nColumna: Cadencia\nBest CV score: 0.638\nTest score: 0.632\nBest Parameters:\n {'model__C': 5, 'model__degree': 1, 'model__epsilon': 0.0001, 'model__gamma': 'scale', 'model__kernel': 'rbf'}\n\nColumna: Velocidad\nBest CV score: 0.922\nTest score: 0.940\nBest Parameters:\n {'model__C': 5, 'model__degree': 1, 'model__epsilon': 0.0001, 'model__gamma': 'auto', 'model__kernel': 'rbf'}\n\nColumna: LongitudZancada\nBest CV score: 0.852\nTest score: 0.903\nBest Parameters:\n {'model__C': 1, 'model__degree': 1, 'model__epsilon': 0.0001, 'model__gamma': 'scale', 'model__kernel': 'rbf'}\n\nColumna: Cadencia\nBest CV score: 0.646\nTest score: 0.611\nBest Parameters:\n {'model__C': 5, 'model__degree': 1, 'model__epsilon': 1, 'model__gamma': 'scale', 'model__kernel': 'rbf'}\n\nColumna: Velocidad\nBest CV score: 0.727\nTest score: 0.746\nBest Parameters:\n {'model__C': 1, 'model__degree': 1, 'model__epsilon': 0.0001, 'model__gamma': 'scale', 'model__kernel': 'rbf'}\n\nColumna: LongitudZancada\nBest CV score: 0.643\nTest score: 0.657\nBest Parameters:\n {'model__C': 5, 'model__degree': 1, 'model__epsilon': 0.0001, 'model__gamma': 'scale', 'model__kernel': 'rbf'}\n\n--------------------------------------------------------------\nPROCESAMIENTO FINALIZADO EXITOSAMENTE!!!\n--------------------------------------------------------------\n--- 12.788337635993958 Minutos ---\n",
     "output_type": "stream"
    }
   ]
  },
  {
   "cell_type": "code",
   "metadata": {
    "cell_id": "7fa534af-7346-4925-845b-609f4c8ed429",
    "tags": [],
    "deepnote_to_be_reexecuted": false,
    "source_hash": "c17d9b",
    "execution_start": 1647019344015,
    "execution_millis": 45,
    "deepnote_table_state": {
     "pageSize": 25,
     "pageIndex": 0,
     "filters": [],
     "sortBy": []
    },
    "deepnote_table_loading": false,
    "deepnote_cell_type": "code",
    "deepnote_cell_height": 1026.84375
   },
   "source": "DataSVM = pd.DataFrame(DataSVM)\nDataSVM.head(20)",
   "execution_count": 16,
   "outputs": [
    {
     "output_type": "execute_result",
     "execution_count": 16,
     "data": {
      "application/vnd.deepnote.dataframe.v3+json": {
       "column_count": 5,
       "row_count": 20,
       "columns": [
        {
         "name": 0,
         "dtype": "object",
         "stats": {
          "unique_count": 7,
          "nan_count": 0,
          "categories": [
           {
            "name": "/work/GWALKVelAngularNoLineal.xlsx",
            "count": 3
           },
           {
            "name": "/work/GWALKEspacial.xlsx",
            "count": 3
           },
           {
            "name": "5 others",
            "count": 14
           }
          ]
         }
        },
        {
         "name": 1,
         "dtype": "object",
         "stats": {
          "unique_count": 3,
          "nan_count": 0,
          "categories": [
           {
            "name": "Cadencia",
            "count": 7
           },
           {
            "name": "Velocidad",
            "count": 7
           },
           {
            "name": "LongitudZancada",
            "count": 6
           }
          ]
         }
        },
        {
         "name": 2,
         "dtype": "float64",
         "stats": {
          "unique_count": 20,
          "nan_count": 0,
          "min": "0.5268967662278816",
          "max": "0.9677216993736938",
          "histogram": [
           {
            "bin_start": 0.5268967662278816,
            "bin_end": 0.5709792595424629,
            "count": 1
           },
           {
            "bin_start": 0.5709792595424629,
            "bin_end": 0.615061752857044,
            "count": 0
           },
           {
            "bin_start": 0.615061752857044,
            "bin_end": 0.6591442461716253,
            "count": 1
           },
           {
            "bin_start": 0.6591442461716253,
            "bin_end": 0.7032267394862065,
            "count": 0
           },
           {
            "bin_start": 0.7032267394862065,
            "bin_end": 0.7473092328007878,
            "count": 2
           },
           {
            "bin_start": 0.7473092328007878,
            "bin_end": 0.7913917261153689,
            "count": 1
           },
           {
            "bin_start": 0.7913917261153689,
            "bin_end": 0.8354742194299501,
            "count": 7
           },
           {
            "bin_start": 0.8354742194299501,
            "bin_end": 0.8795567127445314,
            "count": 5
           },
           {
            "bin_start": 0.8795567127445314,
            "bin_end": 0.9236392060591125,
            "count": 1
           },
           {
            "bin_start": 0.9236392060591125,
            "bin_end": 0.9677216993736938,
            "count": 2
           }
          ]
         }
        },
        {
         "name": 3,
         "dtype": "float64",
         "stats": {
          "unique_count": 20,
          "nan_count": 0,
          "min": "0.6226863010465653",
          "max": "0.9788876563776002",
          "histogram": [
           {
            "bin_start": 0.6226863010465653,
            "bin_end": 0.6583064365796688,
            "count": 1
           },
           {
            "bin_start": 0.6583064365796688,
            "bin_end": 0.6939265721127723,
            "count": 0
           },
           {
            "bin_start": 0.6939265721127723,
            "bin_end": 0.7295467076458758,
            "count": 2
           },
           {
            "bin_start": 0.7295467076458758,
            "bin_end": 0.7651668431789793,
            "count": 2
           },
           {
            "bin_start": 0.7651668431789793,
            "bin_end": 0.8007869787120827,
            "count": 1
           },
           {
            "bin_start": 0.8007869787120827,
            "bin_end": 0.8364071142451862,
            "count": 5
           },
           {
            "bin_start": 0.8364071142451862,
            "bin_end": 0.8720272497782897,
            "count": 3
           },
           {
            "bin_start": 0.8720272497782897,
            "bin_end": 0.9076473853113932,
            "count": 4
           },
           {
            "bin_start": 0.9076473853113932,
            "bin_end": 0.9432675208444967,
            "count": 0
           },
           {
            "bin_start": 0.9432675208444967,
            "bin_end": 0.9788876563776002,
            "count": 2
           }
          ]
         }
        },
        {
         "name": 4,
         "dtype": "object",
         "stats": {
          "unique_count": 20,
          "nan_count": 0,
          "categories": [
           {
            "name": "{'model__C': 1, 'model__degree': 1, 'model__epsilon': 0.0001, 'model__gamma': 'scale', 'model__kernel': 'rbf'}",
            "count": 8
           },
           {
            "name": "{'model__C': 5, 'model__degree': 1, 'model__epsilon': 0.0001, 'model__gamma': 'scale', 'model__kernel': 'rbf'}",
            "count": 7
           },
           {
            "name": "3 others",
            "count": 5
           }
          ]
         }
        },
        {
         "name": "_deepnote_index_column",
         "dtype": "int64"
        }
       ],
       "rows": [
        {
         "0": "/work/GWALKVelAngularNoLineal.xlsx",
         "1": "Cadencia",
         "2": 0.6317538859390494,
         "3": 0.7183277115538791,
         "4": "{'model__C': 5, 'model__degree': 1, 'model__epsilon': 0.5, 'model__gamma': 'scale', 'model__kernel'…",
         "_deepnote_index_column": 0
        },
        {
         "0": "/work/GWALKVelAngularNoLineal.xlsx",
         "1": "Velocidad",
         "2": 0.8302007502075265,
         "3": 0.823330971477381,
         "4": "{'model__C': 1, 'model__degree': 1, 'model__epsilon': 0.0001, 'model__gamma': 'scale', 'model__kern…",
         "_deepnote_index_column": 1
        },
        {
         "0": "/work/GWALKVelAngularNoLineal.xlsx",
         "1": "LongitudZancada",
         "2": 0.805719929797502,
         "3": 0.8067741614843679,
         "4": "{'model__C': 1, 'model__degree': 1, 'model__epsilon': 0.0001, 'model__gamma': 'scale', 'model__kern…",
         "_deepnote_index_column": 2
        },
        {
         "0": "/work/GWALKEspacial.xlsx",
         "1": "Cadencia",
         "2": 0.8493316784680852,
         "3": 0.9072178814841583,
         "4": "{'model__C': 5, 'model__degree': 1, 'model__epsilon': 0.0001, 'model__gamma': 'scale', 'model__kern…",
         "_deepnote_index_column": 3
        },
        {
         "0": "/work/GWALKEspacial.xlsx",
         "1": "Velocidad",
         "2": 0.9677216993736938,
         "3": 0.9788876563776002,
         "4": "{'model__C': 5, 'model__degree': 1, 'model__epsilon': 0.0001, 'model__gamma': 'auto', 'model__kerne…",
         "_deepnote_index_column": 4
        },
        {
         "0": "/work/GWALKEspacial.xlsx",
         "1": "LongitudZancada",
         "2": 0.9527551981553636,
         "3": 0.9696164990431536,
         "4": "{'model__C': 1, 'model__degree': 1, 'model__epsilon': 0.0001, 'model__gamma': 'scale', 'model__kern…",
         "_deepnote_index_column": 5
        },
        {
         "0": "/work/AWR.xlsx",
         "1": "Cadencia",
         "2": 0.8277558005349223,
         "3": 0.8096821356631658,
         "4": "{'model__C': 5, 'model__degree': 1, 'model__epsilon': 0.0001, 'model__gamma': 'scale', 'model__kern…",
         "_deepnote_index_column": 6
        },
        {
         "0": "/work/AWR.xlsx",
         "1": "Velocidad",
         "2": 0.8626003733464852,
         "3": 0.8459742815982199,
         "4": "{'model__C': 1, 'model__degree': 1, 'model__epsilon': 0.0001, 'model__gamma': 'scale', 'model__kern…",
         "_deepnote_index_column": 7
        },
        {
         "0": "/work/AWR.xlsx",
         "1": "LongitudZancada",
         "2": 0.8071133520865459,
         "3": 0.8429722408995083,
         "4": "{'model__C': 1, 'model__degree': 1, 'model__epsilon': 0.0001, 'model__gamma': 'scale', 'model__kern…",
         "_deepnote_index_column": 8
        },
        {
         "0": "/work/IMUR.xlsx",
         "1": "Cadencia",
         "2": 0.7215548717099198,
         "3": 0.7394952930452805,
         "4": "{'model__C': 5, 'model__degree': 1, 'model__epsilon': 1, 'model__gamma': 'scale', 'model__kernel': …",
         "_deepnote_index_column": 9
        },
        {
         "0": "/work/IMUR.xlsx",
         "1": "Velocidad",
         "2": 0.8802573686286237,
         "3": 0.9038925372692741,
         "4": "{'model__C': 5, 'model__degree': 1, 'model__epsilon': 0.0001, 'model__gamma': 'scale', 'model__kern…",
         "_deepnote_index_column": 10
        },
        {
         "0": "/work/IMUR.xlsx",
         "1": "LongitudZancada",
         "2": 0.8232405481346017,
         "3": 0.8746157700077295,
         "4": "{'model__C': 5, 'model__degree': 1, 'model__epsilon': 0.0001, 'model__gamma': 'scale', 'model__kern…",
         "_deepnote_index_column": 11
        },
        {
         "0": "/work/AWAccLinealEspacial.xlsx",
         "1": "Cadencia",
         "2": 0.7795853935514737,
         "3": 0.7456437610152775,
         "4": "{'model__C': 5, 'model__degree': 1, 'model__epsilon': 1, 'model__gamma': 'scale', 'model__kernel': …",
         "_deepnote_index_column": 12
        },
        {
         "0": "/work/AWAccLinealEspacial.xlsx",
         "1": "Velocidad",
         "2": 0.8591685351649648,
         "3": 0.8933302703898771,
         "4": "{'model__C': 1, 'model__degree': 1, 'model__epsilon': 0.0001, 'model__gamma': 'scale', 'model__kern…",
         "_deepnote_index_column": 13
        },
        {
         "0": "/work/AWAccLinealEspacial.xlsx",
         "1": "LongitudZancada",
         "2": 0.8489481916489016,
         "3": 0.8435364364693251,
         "4": "{'model__C': 5, 'model__degree': 1, 'model__epsilon': 0.0001, 'model__gamma': 'scale', 'model__kern…",
         "_deepnote_index_column": 14
        },
        {
         "0": "/work/AWREspacial.xlsx",
         "1": "Cadencia",
         "2": 0.7428353685265099,
         "3": 0.714305447482066,
         "4": "{'model__C': 5, 'model__degree': 1, 'model__epsilon': 0.0001, 'model__gamma': 'scale', 'model__kern…",
         "_deepnote_index_column": 15
        },
        {
         "0": "/work/AWREspacial.xlsx",
         "1": "Velocidad",
         "2": 0.848915682167512,
         "3": 0.8307402109008802,
         "4": "{'model__C': 1, 'model__degree': 1, 'model__epsilon': 0.0001, 'model__gamma': 'scale', 'model__kern…",
         "_deepnote_index_column": 16
        },
        {
         "0": "/work/AWREspacial.xlsx",
         "1": "LongitudZancada",
         "2": 0.7958939135946956,
         "3": 0.8179400395166061,
         "4": "{'model__C': 1, 'model__degree': 1, 'model__epsilon': 0.0001, 'model__gamma': 'scale', 'model__kern…",
         "_deepnote_index_column": 17
        },
        {
         "0": "/work/GWALKVelAngularEspacial.xlsx",
         "1": "Cadencia",
         "2": 0.5268967662278816,
         "3": 0.6226863010465653,
         "4": "{'model__C': 5, 'model__degree': 1, 'model__epsilon': 1, 'model__gamma': 'scale', 'model__kernel': …",
         "_deepnote_index_column": 18
        },
        {
         "0": "/work/GWALKVelAngularEspacial.xlsx",
         "1": "Velocidad",
         "2": 0.8193504065421026,
         "3": 0.7841864083874724,
         "4": "{'model__C': 5, 'model__degree': 1, 'model__epsilon': 0.0001, 'model__gamma': 'scale', 'model__kern…",
         "_deepnote_index_column": 19
        }
       ]
      },
      "text/plain": "                                     0                1         2         3  \\\n0   /work/GWALKVelAngularNoLineal.xlsx         Cadencia  0.631754  0.718328   \n1   /work/GWALKVelAngularNoLineal.xlsx        Velocidad  0.830201  0.823331   \n2   /work/GWALKVelAngularNoLineal.xlsx  LongitudZancada  0.805720  0.806774   \n3             /work/GWALKEspacial.xlsx         Cadencia  0.849332  0.907218   \n4             /work/GWALKEspacial.xlsx        Velocidad  0.967722  0.978888   \n5             /work/GWALKEspacial.xlsx  LongitudZancada  0.952755  0.969616   \n6                       /work/AWR.xlsx         Cadencia  0.827756  0.809682   \n7                       /work/AWR.xlsx        Velocidad  0.862600  0.845974   \n8                       /work/AWR.xlsx  LongitudZancada  0.807113  0.842972   \n9                      /work/IMUR.xlsx         Cadencia  0.721555  0.739495   \n10                     /work/IMUR.xlsx        Velocidad  0.880257  0.903893   \n11                     /work/IMUR.xlsx  LongitudZancada  0.823241  0.874616   \n12      /work/AWAccLinealEspacial.xlsx         Cadencia  0.779585  0.745644   \n13      /work/AWAccLinealEspacial.xlsx        Velocidad  0.859169  0.893330   \n14      /work/AWAccLinealEspacial.xlsx  LongitudZancada  0.848948  0.843536   \n15              /work/AWREspacial.xlsx         Cadencia  0.742835  0.714305   \n16              /work/AWREspacial.xlsx        Velocidad  0.848916  0.830740   \n17              /work/AWREspacial.xlsx  LongitudZancada  0.795894  0.817940   \n18  /work/GWALKVelAngularEspacial.xlsx         Cadencia  0.526897  0.622686   \n19  /work/GWALKVelAngularEspacial.xlsx        Velocidad  0.819350  0.784186   \n\n                                                    4  \n0   {'model__C': 5, 'model__degree': 1, 'model__ep...  \n1   {'model__C': 1, 'model__degree': 1, 'model__ep...  \n2   {'model__C': 1, 'model__degree': 1, 'model__ep...  \n3   {'model__C': 5, 'model__degree': 1, 'model__ep...  \n4   {'model__C': 5, 'model__degree': 1, 'model__ep...  \n5   {'model__C': 1, 'model__degree': 1, 'model__ep...  \n6   {'model__C': 5, 'model__degree': 1, 'model__ep...  \n7   {'model__C': 1, 'model__degree': 1, 'model__ep...  \n8   {'model__C': 1, 'model__degree': 1, 'model__ep...  \n9   {'model__C': 5, 'model__degree': 1, 'model__ep...  \n10  {'model__C': 5, 'model__degree': 1, 'model__ep...  \n11  {'model__C': 5, 'model__degree': 1, 'model__ep...  \n12  {'model__C': 5, 'model__degree': 1, 'model__ep...  \n13  {'model__C': 1, 'model__degree': 1, 'model__ep...  \n14  {'model__C': 5, 'model__degree': 1, 'model__ep...  \n15  {'model__C': 5, 'model__degree': 1, 'model__ep...  \n16  {'model__C': 1, 'model__degree': 1, 'model__ep...  \n17  {'model__C': 1, 'model__degree': 1, 'model__ep...  \n18  {'model__C': 5, 'model__degree': 1, 'model__ep...  \n19  {'model__C': 5, 'model__degree': 1, 'model__ep...  ",
      "text/html": "<div>\n<style scoped>\n    .dataframe tbody tr th:only-of-type {\n        vertical-align: middle;\n    }\n\n    .dataframe tbody tr th {\n        vertical-align: top;\n    }\n\n    .dataframe thead th {\n        text-align: right;\n    }\n</style>\n<table border=\"1\" class=\"dataframe\">\n  <thead>\n    <tr style=\"text-align: right;\">\n      <th></th>\n      <th>0</th>\n      <th>1</th>\n      <th>2</th>\n      <th>3</th>\n      <th>4</th>\n    </tr>\n  </thead>\n  <tbody>\n    <tr>\n      <th>0</th>\n      <td>/work/GWALKVelAngularNoLineal.xlsx</td>\n      <td>Cadencia</td>\n      <td>0.631754</td>\n      <td>0.718328</td>\n      <td>{'model__C': 5, 'model__degree': 1, 'model__ep...</td>\n    </tr>\n    <tr>\n      <th>1</th>\n      <td>/work/GWALKVelAngularNoLineal.xlsx</td>\n      <td>Velocidad</td>\n      <td>0.830201</td>\n      <td>0.823331</td>\n      <td>{'model__C': 1, 'model__degree': 1, 'model__ep...</td>\n    </tr>\n    <tr>\n      <th>2</th>\n      <td>/work/GWALKVelAngularNoLineal.xlsx</td>\n      <td>LongitudZancada</td>\n      <td>0.805720</td>\n      <td>0.806774</td>\n      <td>{'model__C': 1, 'model__degree': 1, 'model__ep...</td>\n    </tr>\n    <tr>\n      <th>3</th>\n      <td>/work/GWALKEspacial.xlsx</td>\n      <td>Cadencia</td>\n      <td>0.849332</td>\n      <td>0.907218</td>\n      <td>{'model__C': 5, 'model__degree': 1, 'model__ep...</td>\n    </tr>\n    <tr>\n      <th>4</th>\n      <td>/work/GWALKEspacial.xlsx</td>\n      <td>Velocidad</td>\n      <td>0.967722</td>\n      <td>0.978888</td>\n      <td>{'model__C': 5, 'model__degree': 1, 'model__ep...</td>\n    </tr>\n    <tr>\n      <th>5</th>\n      <td>/work/GWALKEspacial.xlsx</td>\n      <td>LongitudZancada</td>\n      <td>0.952755</td>\n      <td>0.969616</td>\n      <td>{'model__C': 1, 'model__degree': 1, 'model__ep...</td>\n    </tr>\n    <tr>\n      <th>6</th>\n      <td>/work/AWR.xlsx</td>\n      <td>Cadencia</td>\n      <td>0.827756</td>\n      <td>0.809682</td>\n      <td>{'model__C': 5, 'model__degree': 1, 'model__ep...</td>\n    </tr>\n    <tr>\n      <th>7</th>\n      <td>/work/AWR.xlsx</td>\n      <td>Velocidad</td>\n      <td>0.862600</td>\n      <td>0.845974</td>\n      <td>{'model__C': 1, 'model__degree': 1, 'model__ep...</td>\n    </tr>\n    <tr>\n      <th>8</th>\n      <td>/work/AWR.xlsx</td>\n      <td>LongitudZancada</td>\n      <td>0.807113</td>\n      <td>0.842972</td>\n      <td>{'model__C': 1, 'model__degree': 1, 'model__ep...</td>\n    </tr>\n    <tr>\n      <th>9</th>\n      <td>/work/IMUR.xlsx</td>\n      <td>Cadencia</td>\n      <td>0.721555</td>\n      <td>0.739495</td>\n      <td>{'model__C': 5, 'model__degree': 1, 'model__ep...</td>\n    </tr>\n    <tr>\n      <th>10</th>\n      <td>/work/IMUR.xlsx</td>\n      <td>Velocidad</td>\n      <td>0.880257</td>\n      <td>0.903893</td>\n      <td>{'model__C': 5, 'model__degree': 1, 'model__ep...</td>\n    </tr>\n    <tr>\n      <th>11</th>\n      <td>/work/IMUR.xlsx</td>\n      <td>LongitudZancada</td>\n      <td>0.823241</td>\n      <td>0.874616</td>\n      <td>{'model__C': 5, 'model__degree': 1, 'model__ep...</td>\n    </tr>\n    <tr>\n      <th>12</th>\n      <td>/work/AWAccLinealEspacial.xlsx</td>\n      <td>Cadencia</td>\n      <td>0.779585</td>\n      <td>0.745644</td>\n      <td>{'model__C': 5, 'model__degree': 1, 'model__ep...</td>\n    </tr>\n    <tr>\n      <th>13</th>\n      <td>/work/AWAccLinealEspacial.xlsx</td>\n      <td>Velocidad</td>\n      <td>0.859169</td>\n      <td>0.893330</td>\n      <td>{'model__C': 1, 'model__degree': 1, 'model__ep...</td>\n    </tr>\n    <tr>\n      <th>14</th>\n      <td>/work/AWAccLinealEspacial.xlsx</td>\n      <td>LongitudZancada</td>\n      <td>0.848948</td>\n      <td>0.843536</td>\n      <td>{'model__C': 5, 'model__degree': 1, 'model__ep...</td>\n    </tr>\n    <tr>\n      <th>15</th>\n      <td>/work/AWREspacial.xlsx</td>\n      <td>Cadencia</td>\n      <td>0.742835</td>\n      <td>0.714305</td>\n      <td>{'model__C': 5, 'model__degree': 1, 'model__ep...</td>\n    </tr>\n    <tr>\n      <th>16</th>\n      <td>/work/AWREspacial.xlsx</td>\n      <td>Velocidad</td>\n      <td>0.848916</td>\n      <td>0.830740</td>\n      <td>{'model__C': 1, 'model__degree': 1, 'model__ep...</td>\n    </tr>\n    <tr>\n      <th>17</th>\n      <td>/work/AWREspacial.xlsx</td>\n      <td>LongitudZancada</td>\n      <td>0.795894</td>\n      <td>0.817940</td>\n      <td>{'model__C': 1, 'model__degree': 1, 'model__ep...</td>\n    </tr>\n    <tr>\n      <th>18</th>\n      <td>/work/GWALKVelAngularEspacial.xlsx</td>\n      <td>Cadencia</td>\n      <td>0.526897</td>\n      <td>0.622686</td>\n      <td>{'model__C': 5, 'model__degree': 1, 'model__ep...</td>\n    </tr>\n    <tr>\n      <th>19</th>\n      <td>/work/GWALKVelAngularEspacial.xlsx</td>\n      <td>Velocidad</td>\n      <td>0.819350</td>\n      <td>0.784186</td>\n      <td>{'model__C': 5, 'model__degree': 1, 'model__ep...</td>\n    </tr>\n  </tbody>\n</table>\n</div>"
     },
     "metadata": {}
    }
   ]
  },
  {
   "cell_type": "code",
   "metadata": {
    "cell_id": "171821fe-17df-4271-9166-a6d315b835be",
    "tags": [],
    "deepnote_to_be_reexecuted": false,
    "source_hash": "489dfc99",
    "execution_start": 1647019344063,
    "execution_millis": 33,
    "deepnote_cell_type": "code",
    "deepnote_cell_height": 81.453125
   },
   "source": "DataSVM.to_csv('DataSVM.csv')",
   "execution_count": 17,
   "outputs": []
  },
  {
   "cell_type": "markdown",
   "source": "<a style='text-decoration:none;line-height:16px;display:flex;color:#5B5B62;padding:10px;justify-content:end;' href='https://deepnote.com?utm_source=created-in-deepnote-cell&projectId=7b789780-dffe-4295-a515-7c11bc987883' target=\"_blank\">\n<img alt='Created in deepnote.com' style='display:inline;max-height:16px;margin:0px;margin-right:7.5px;' src='data:image/svg+xml;base64,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' > </img>\nCreated in <span style='font-weight:600;margin-left:4px;'>Deepnote</span></a>",
   "metadata": {
    "tags": [],
    "created_in_deepnote_cell": true,
    "deepnote_cell_type": "markdown"
   }
  }
 ],
 "nbformat": 4,
 "nbformat_minor": 2,
 "metadata": {
  "orig_nbformat": 2,
  "deepnote": {
   "is_reactive": false
  },
  "deepnote_notebook_id": "64c6ca90-16e9-4ab3-a813-f19bd528a09e",
  "deepnote_execution_queue": [],
  "deepnote_app_layout": "article"
 }
}